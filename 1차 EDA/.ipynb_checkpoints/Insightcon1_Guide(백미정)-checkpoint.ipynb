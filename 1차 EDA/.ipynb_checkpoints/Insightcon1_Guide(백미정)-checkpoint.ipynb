{
 "cells": [
  {
   "cell_type": "markdown",
   "id": "973171fa",
   "metadata": {},
   "source": [
    "# 2022-1 제 1회 인사이콘 : HR Analytics - How to reduce Employee Turnover?"
   ]
  },
  {
   "cell_type": "markdown",
   "id": "8747dc94",
   "metadata": {},
   "source": [
    "## Dataset\n",
    "1. **WA_Fn-UseC_-HR-Employee-Attrition.csv**\n",
    "- HR 데이터가 담겨있는 데이터셋입니다. **해당 파일의 데이터를 이용해서 EDA 및 Feature Engineering을 진행합니다.**\n",
    "2. **WA_Fn-UseC_-HR-Employee-Attrition.xlsx**\n",
    "- sheet 1: HR 데이터의 가독성을 위해 정리된 시트입니다. csv 파일과 동일한 내용입니다.\n",
    "- sheet 2(Variable Dictionary): 각 변수들에 대한 설명이 담겨있습니다."
   ]
  },
  {
   "cell_type": "markdown",
   "id": "9c33bdf3",
   "metadata": {},
   "source": [
    "## General Guideline:\n",
    "\n",
    "주어진 HR 데이터를 통해 **종업원 퇴사의 주된 원인을 탐색 및 시각화하여, 경영진에게 인사이트 및 문제에 대한 해결방안을 도출하는** case 입니다.\n",
    "\n",
    "권장하는 진행 순서는 다음과 같습니다.\n",
    "\n",
    "1. **EDA + Feature Engineering**\n",
    "- 데이터에 대한 EDA 및 Feature Engineering을 진행하여 활용할 Feature들을 확정합니다. \n",
    "2. **Interpretation**\n",
    "- Employee Turnover에 영향을 미치는 변인과 그 관계를 탐색 및 해석합니다.\n",
    "3. **Insight**\n",
    "- 분석 결과를 바탕으로 인사이트를 도출하여, 경영진에게 Employee Turnover 제고 전략을 제시합니다.\n",
    "4. **presentation**\n",
    "- 주피터 노트북 or 노션 페이지로 자료를 정리 및 발표합니다."
   ]
  },
  {
   "cell_type": "markdown",
   "id": "7c4d8442",
   "metadata": {},
   "source": [
    "# EDA + Feature Processing\n",
    "\n",
    "EDA 및 Feature Processing을 진행하고, 활용할 Feature들을 확정합니다."
   ]
  },
  {
   "cell_type": "code",
   "execution_count": 1,
   "id": "04501381",
   "metadata": {
    "scrolled": true
   },
   "outputs": [
    {
     "data": {
      "text/html": [
       "<div>\n",
       "<style scoped>\n",
       "    .dataframe tbody tr th:only-of-type {\n",
       "        vertical-align: middle;\n",
       "    }\n",
       "\n",
       "    .dataframe tbody tr th {\n",
       "        vertical-align: top;\n",
       "    }\n",
       "\n",
       "    .dataframe thead th {\n",
       "        text-align: right;\n",
       "    }\n",
       "</style>\n",
       "<table border=\"1\" class=\"dataframe\">\n",
       "  <thead>\n",
       "    <tr style=\"text-align: right;\">\n",
       "      <th></th>\n",
       "      <th>Age</th>\n",
       "      <th>Attrition</th>\n",
       "      <th>BusinessTravel</th>\n",
       "      <th>DailyRate</th>\n",
       "      <th>Department</th>\n",
       "      <th>DistanceFromHome</th>\n",
       "      <th>Education</th>\n",
       "      <th>EducationField</th>\n",
       "      <th>EmployeeNumber</th>\n",
       "      <th>EnvironmentSatisfaction</th>\n",
       "      <th>...</th>\n",
       "      <th>RelationshipSatisfaction</th>\n",
       "      <th>StandardHours</th>\n",
       "      <th>StockOptionLevel</th>\n",
       "      <th>TotalWorkingYears</th>\n",
       "      <th>TrainingTimesLastYear</th>\n",
       "      <th>WorkLifeBalance</th>\n",
       "      <th>YearsAtCompany</th>\n",
       "      <th>YearsInCurrentRole</th>\n",
       "      <th>YearsSinceLastPromotion</th>\n",
       "      <th>YearsWithCurrManager</th>\n",
       "    </tr>\n",
       "  </thead>\n",
       "  <tbody>\n",
       "    <tr>\n",
       "      <th>0</th>\n",
       "      <td>41</td>\n",
       "      <td>Yes</td>\n",
       "      <td>Travel_Rarely</td>\n",
       "      <td>1102</td>\n",
       "      <td>Sales</td>\n",
       "      <td>1</td>\n",
       "      <td>2</td>\n",
       "      <td>Life Sciences</td>\n",
       "      <td>1</td>\n",
       "      <td>2</td>\n",
       "      <td>...</td>\n",
       "      <td>1</td>\n",
       "      <td>80</td>\n",
       "      <td>0</td>\n",
       "      <td>8</td>\n",
       "      <td>0</td>\n",
       "      <td>1</td>\n",
       "      <td>6</td>\n",
       "      <td>4</td>\n",
       "      <td>0</td>\n",
       "      <td>5</td>\n",
       "    </tr>\n",
       "    <tr>\n",
       "      <th>1</th>\n",
       "      <td>49</td>\n",
       "      <td>No</td>\n",
       "      <td>Travel_Frequently</td>\n",
       "      <td>279</td>\n",
       "      <td>Research &amp; Development</td>\n",
       "      <td>8</td>\n",
       "      <td>1</td>\n",
       "      <td>Life Sciences</td>\n",
       "      <td>2</td>\n",
       "      <td>3</td>\n",
       "      <td>...</td>\n",
       "      <td>4</td>\n",
       "      <td>80</td>\n",
       "      <td>1</td>\n",
       "      <td>10</td>\n",
       "      <td>3</td>\n",
       "      <td>3</td>\n",
       "      <td>10</td>\n",
       "      <td>7</td>\n",
       "      <td>1</td>\n",
       "      <td>7</td>\n",
       "    </tr>\n",
       "    <tr>\n",
       "      <th>2</th>\n",
       "      <td>37</td>\n",
       "      <td>Yes</td>\n",
       "      <td>Travel_Rarely</td>\n",
       "      <td>1373</td>\n",
       "      <td>Research &amp; Development</td>\n",
       "      <td>2</td>\n",
       "      <td>2</td>\n",
       "      <td>Other</td>\n",
       "      <td>4</td>\n",
       "      <td>4</td>\n",
       "      <td>...</td>\n",
       "      <td>2</td>\n",
       "      <td>80</td>\n",
       "      <td>0</td>\n",
       "      <td>7</td>\n",
       "      <td>3</td>\n",
       "      <td>3</td>\n",
       "      <td>0</td>\n",
       "      <td>0</td>\n",
       "      <td>0</td>\n",
       "      <td>0</td>\n",
       "    </tr>\n",
       "    <tr>\n",
       "      <th>3</th>\n",
       "      <td>33</td>\n",
       "      <td>No</td>\n",
       "      <td>Travel_Frequently</td>\n",
       "      <td>1392</td>\n",
       "      <td>Research &amp; Development</td>\n",
       "      <td>3</td>\n",
       "      <td>4</td>\n",
       "      <td>Life Sciences</td>\n",
       "      <td>5</td>\n",
       "      <td>4</td>\n",
       "      <td>...</td>\n",
       "      <td>3</td>\n",
       "      <td>80</td>\n",
       "      <td>0</td>\n",
       "      <td>8</td>\n",
       "      <td>3</td>\n",
       "      <td>3</td>\n",
       "      <td>8</td>\n",
       "      <td>7</td>\n",
       "      <td>3</td>\n",
       "      <td>0</td>\n",
       "    </tr>\n",
       "    <tr>\n",
       "      <th>4</th>\n",
       "      <td>27</td>\n",
       "      <td>No</td>\n",
       "      <td>Travel_Rarely</td>\n",
       "      <td>591</td>\n",
       "      <td>Research &amp; Development</td>\n",
       "      <td>2</td>\n",
       "      <td>1</td>\n",
       "      <td>Medical</td>\n",
       "      <td>7</td>\n",
       "      <td>1</td>\n",
       "      <td>...</td>\n",
       "      <td>4</td>\n",
       "      <td>80</td>\n",
       "      <td>1</td>\n",
       "      <td>6</td>\n",
       "      <td>3</td>\n",
       "      <td>3</td>\n",
       "      <td>2</td>\n",
       "      <td>2</td>\n",
       "      <td>2</td>\n",
       "      <td>2</td>\n",
       "    </tr>\n",
       "  </tbody>\n",
       "</table>\n",
       "<p>5 rows × 33 columns</p>\n",
       "</div>"
      ],
      "text/plain": [
       "   Age Attrition     BusinessTravel  DailyRate              Department  \\\n",
       "0   41       Yes      Travel_Rarely       1102                   Sales   \n",
       "1   49        No  Travel_Frequently        279  Research & Development   \n",
       "2   37       Yes      Travel_Rarely       1373  Research & Development   \n",
       "3   33        No  Travel_Frequently       1392  Research & Development   \n",
       "4   27        No      Travel_Rarely        591  Research & Development   \n",
       "\n",
       "   DistanceFromHome  Education EducationField  EmployeeNumber  \\\n",
       "0                 1          2  Life Sciences               1   \n",
       "1                 8          1  Life Sciences               2   \n",
       "2                 2          2          Other               4   \n",
       "3                 3          4  Life Sciences               5   \n",
       "4                 2          1        Medical               7   \n",
       "\n",
       "   EnvironmentSatisfaction  ... RelationshipSatisfaction  StandardHours  \\\n",
       "0                        2  ...                        1             80   \n",
       "1                        3  ...                        4             80   \n",
       "2                        4  ...                        2             80   \n",
       "3                        4  ...                        3             80   \n",
       "4                        1  ...                        4             80   \n",
       "\n",
       "   StockOptionLevel  TotalWorkingYears TrainingTimesLastYear  WorkLifeBalance  \\\n",
       "0                 0                  8                     0                1   \n",
       "1                 1                 10                     3                3   \n",
       "2                 0                  7                     3                3   \n",
       "3                 0                  8                     3                3   \n",
       "4                 1                  6                     3                3   \n",
       "\n",
       "  YearsAtCompany  YearsInCurrentRole  YearsSinceLastPromotion  \\\n",
       "0              6                   4                        0   \n",
       "1             10                   7                        1   \n",
       "2              0                   0                        0   \n",
       "3              8                   7                        3   \n",
       "4              2                   2                        2   \n",
       "\n",
       "   YearsWithCurrManager  \n",
       "0                     5  \n",
       "1                     7  \n",
       "2                     0  \n",
       "3                     0  \n",
       "4                     2  \n",
       "\n",
       "[5 rows x 33 columns]"
      ]
     },
     "execution_count": 1,
     "metadata": {},
     "output_type": "execute_result"
    }
   ],
   "source": [
    "import pandas as pd\n",
    "import numpy as np\n",
    "\n",
    "import matplotlib.pyplot as plt\n",
    "import seaborn as sns\n",
    "\n",
    "import warnings\n",
    "\n",
    "warnings.filterwarnings('ignore')\n",
    "\n",
    "data = pd.read_csv('../data/WA_Fn-UseC_-HR-Employee-Attrition.csv')\n",
    "data.head(5)"
   ]
  },
  {
   "cell_type": "code",
   "execution_count": 2,
   "id": "0c6799f8",
   "metadata": {
    "scrolled": true
   },
   "outputs": [
    {
     "name": "stdout",
     "output_type": "stream",
     "text": [
      "<class 'pandas.core.frame.DataFrame'>\n",
      "RangeIndex: 1470 entries, 0 to 1469\n",
      "Data columns (total 33 columns):\n",
      " #   Column                    Non-Null Count  Dtype \n",
      "---  ------                    --------------  ----- \n",
      " 0   Age                       1470 non-null   int64 \n",
      " 1   Attrition                 1470 non-null   object\n",
      " 2   BusinessTravel            1470 non-null   object\n",
      " 3   DailyRate                 1470 non-null   int64 \n",
      " 4   Department                1470 non-null   object\n",
      " 5   DistanceFromHome          1470 non-null   int64 \n",
      " 6   Education                 1470 non-null   int64 \n",
      " 7   EducationField            1470 non-null   object\n",
      " 8   EmployeeNumber            1470 non-null   int64 \n",
      " 9   EnvironmentSatisfaction   1470 non-null   int64 \n",
      " 10  Gender                    1470 non-null   object\n",
      " 11  HourlyRate                1470 non-null   int64 \n",
      " 12  JobInvolvement            1470 non-null   int64 \n",
      " 13  JobLevel                  1470 non-null   int64 \n",
      " 14  JobRole                   1470 non-null   object\n",
      " 15  JobSatisfaction           1470 non-null   int64 \n",
      " 16  MaritalStatus             1470 non-null   object\n",
      " 17  MonthlyIncome             1470 non-null   int64 \n",
      " 18  MonthlyRate               1470 non-null   int64 \n",
      " 19  NumCompaniesWorked        1470 non-null   int64 \n",
      " 20  OverTime                  1470 non-null   object\n",
      " 21  PercentSalaryHike         1470 non-null   int64 \n",
      " 22  PerformanceRating         1470 non-null   int64 \n",
      " 23  RelationshipSatisfaction  1470 non-null   int64 \n",
      " 24  StandardHours             1470 non-null   int64 \n",
      " 25  StockOptionLevel          1470 non-null   int64 \n",
      " 26  TotalWorkingYears         1470 non-null   int64 \n",
      " 27  TrainingTimesLastYear     1470 non-null   int64 \n",
      " 28  WorkLifeBalance           1470 non-null   int64 \n",
      " 29  YearsAtCompany            1470 non-null   int64 \n",
      " 30  YearsInCurrentRole        1470 non-null   int64 \n",
      " 31  YearsSinceLastPromotion   1470 non-null   int64 \n",
      " 32  YearsWithCurrManager      1470 non-null   int64 \n",
      "dtypes: int64(25), object(8)\n",
      "memory usage: 379.1+ KB\n"
     ]
    }
   ],
   "source": [
    "data.info()"
   ]
  },
  {
   "cell_type": "code",
   "execution_count": 3,
   "id": "c61e9e2a",
   "metadata": {},
   "outputs": [
    {
     "data": {
      "text/plain": [
       "No     1233\n",
       "Yes     237\n",
       "Name: Attrition, dtype: int64"
      ]
     },
     "execution_count": 3,
     "metadata": {},
     "output_type": "execute_result"
    }
   ],
   "source": [
    "data['Attrition'].value_counts()"
   ]
  },
  {
   "cell_type": "markdown",
   "id": "9d17ec69",
   "metadata": {},
   "source": [
    "### 담당 파트:  EnvironmentSatisfaction, JobSatisfaction, RelationshipSatisfaction, WorkLifeBalance, YearsAtCompany, YearsInCurrentRole, YearsSinceLastPromotion, YearsWithCurrManager\n",
    ">- EnvironmentSatisfaction, JobSatisfaction 이 두개가 비교적 큰 퇴사요인이 됨.\\\n",
    " -- years를 보면, 퇴사자들중 상당수가 입사하고 얼마안있다가 퇴사해버림> 요인을 파악하고 대책이 필요할듯 "
   ]
  },
  {
   "cell_type": "markdown",
   "id": "140505f4",
   "metadata": {},
   "source": [
    "## EnvironmentSatisfaction"
   ]
  },
  {
   "cell_type": "code",
   "execution_count": 4,
   "id": "bd8729d5",
   "metadata": {},
   "outputs": [
    {
     "data": {
      "text/plain": [
       "3    453\n",
       "4    446\n",
       "2    287\n",
       "1    284\n",
       "Name: EnvironmentSatisfaction, dtype: int64"
      ]
     },
     "execution_count": 4,
     "metadata": {},
     "output_type": "execute_result"
    }
   ],
   "source": [
    "data['EnvironmentSatisfaction'].value_counts()"
   ]
  },
  {
   "cell_type": "code",
   "execution_count": 5,
   "id": "d25c01b4",
   "metadata": {
    "scrolled": true
   },
   "outputs": [
    {
     "data": {
      "image/png": "[encoded data removed]",
      "text/plain": [
       "<Figure size 216x216 with 1 Axes>"
      ]
     },
     "metadata": {},
     "output_type": "display_data"
    }
   ],
   "source": [
    "plt.figure(figsize=(3,3))\n",
    "plt.pie(data['EnvironmentSatisfaction'].value_counts(), labels=data['EnvironmentSatisfaction'].value_counts().index,autopct='%0.1f%%')\n",
    "plt.show()\n",
    "#1: 'Low'    2: 'Medium'  3: 'High'   4: 'Very High'"
   ]
  },
  {
   "cell_type": "code",
   "execution_count": 6,
   "id": "f42f2efa",
   "metadata": {
    "scrolled": true
   },
   "outputs": [
    {
     "data": {
      "text/html": [
       "<div>\n",
       "<style scoped>\n",
       "    .dataframe tbody tr th:only-of-type {\n",
       "        vertical-align: middle;\n",
       "    }\n",
       "\n",
       "    .dataframe tbody tr th {\n",
       "        vertical-align: top;\n",
       "    }\n",
       "\n",
       "    .dataframe thead th {\n",
       "        text-align: right;\n",
       "    }\n",
       "</style>\n",
       "<table border=\"1\" class=\"dataframe\">\n",
       "  <thead>\n",
       "    <tr style=\"text-align: right;\">\n",
       "      <th></th>\n",
       "      <th>EnvironmentSatisfaction</th>\n",
       "    </tr>\n",
       "    <tr>\n",
       "      <th>Attrition</th>\n",
       "      <th></th>\n",
       "    </tr>\n",
       "  </thead>\n",
       "  <tbody>\n",
       "    <tr>\n",
       "      <th>No</th>\n",
       "      <td>2.771290</td>\n",
       "    </tr>\n",
       "    <tr>\n",
       "      <th>Yes</th>\n",
       "      <td>2.464135</td>\n",
       "    </tr>\n",
       "  </tbody>\n",
       "</table>\n",
       "</div>"
      ],
      "text/plain": [
       "           EnvironmentSatisfaction\n",
       "Attrition                         \n",
       "No                        2.771290\n",
       "Yes                       2.464135"
      ]
     },
     "execution_count": 6,
     "metadata": {},
     "output_type": "execute_result"
    }
   ],
   "source": [
    "data[['Attrition','EnvironmentSatisfaction']].groupby('Attrition').mean()"
   ]
  },
  {
   "cell_type": "code",
   "execution_count": 7,
   "id": "db19ffa4",
   "metadata": {
    "scrolled": false
   },
   "outputs": [
    {
     "data": {
      "text/plain": [
       "EnvironmentSatisfaction  Attrition\n",
       "1                        No           212\n",
       "                         Yes           72\n",
       "2                        No           244\n",
       "                         Yes           43\n",
       "3                        No           391\n",
       "                         Yes           62\n",
       "4                        No           386\n",
       "                         Yes           60\n",
       "Name: Attrition, dtype: int64"
      ]
     },
     "execution_count": 7,
     "metadata": {},
     "output_type": "execute_result"
    }
   ],
   "source": [
    "data.groupby(['EnvironmentSatisfaction','Attrition'])['Attrition'].count()"
   ]
  },
  {
   "cell_type": "code",
   "execution_count": 8,
   "id": "fb5d2c89",
   "metadata": {
    "scrolled": true
   },
   "outputs": [
    {
     "data": {
      "text/html": [
       "<style  type=\"text/css\" >\n",
       "#T_885a9_row0_col0,#T_885a9_row0_col2,#T_885a9_row1_col1,#T_885a9_row1_col2{\n",
       "            background-color:  #ffff66;\n",
       "            color:  #000000;\n",
       "        }#T_885a9_row0_col1{\n",
       "            background-color:  #d9ec66;\n",
       "            color:  #000000;\n",
       "        }#T_885a9_row1_col0{\n",
       "            background-color:  #f7fb66;\n",
       "            color:  #000000;\n",
       "        }#T_885a9_row2_col0{\n",
       "            background-color:  #d3e966;\n",
       "            color:  #000000;\n",
       "        }#T_885a9_row2_col1{\n",
       "            background-color:  #e6f266;\n",
       "            color:  #000000;\n",
       "        }#T_885a9_row2_col2{\n",
       "            background-color:  #dbed66;\n",
       "            color:  #000000;\n",
       "        }#T_885a9_row3_col0{\n",
       "            background-color:  #d4ea66;\n",
       "            color:  #000000;\n",
       "        }#T_885a9_row3_col1{\n",
       "            background-color:  #e9f466;\n",
       "            color:  #000000;\n",
       "        }#T_885a9_row3_col2{\n",
       "            background-color:  #ddee66;\n",
       "            color:  #000000;\n",
       "        }#T_885a9_row4_col0,#T_885a9_row4_col1,#T_885a9_row4_col2{\n",
       "            background-color:  #008066;\n",
       "            color:  #f1f1f1;\n",
       "        }</style><table id=\"T_885a9_\" ><thead>    <tr>        <th class=\"index_name level0\" >Attrition</th>        <th class=\"col_heading level0 col0\" >No</th>        <th class=\"col_heading level0 col1\" >Yes</th>        <th class=\"col_heading level0 col2\" >All</th>    </tr>    <tr>        <th class=\"index_name level0\" >EnvironmentSatisfaction</th>        <th class=\"blank\" ></th>        <th class=\"blank\" ></th>        <th class=\"blank\" ></th>    </tr></thead><tbody>\n",
       "                <tr>\n",
       "                        <th id=\"T_885a9_level0_row0\" class=\"row_heading level0 row0\" >1</th>\n",
       "                        <td id=\"T_885a9_row0_col0\" class=\"data row0 col0\" >212</td>\n",
       "                        <td id=\"T_885a9_row0_col1\" class=\"data row0 col1\" >72</td>\n",
       "                        <td id=\"T_885a9_row0_col2\" class=\"data row0 col2\" >284</td>\n",
       "            </tr>\n",
       "            <tr>\n",
       "                        <th id=\"T_885a9_level0_row1\" class=\"row_heading level0 row1\" >2</th>\n",
       "                        <td id=\"T_885a9_row1_col0\" class=\"data row1 col0\" >244</td>\n",
       "                        <td id=\"T_885a9_row1_col1\" class=\"data row1 col1\" >43</td>\n",
       "                        <td id=\"T_885a9_row1_col2\" class=\"data row1 col2\" >287</td>\n",
       "            </tr>\n",
       "            <tr>\n",
       "                        <th id=\"T_885a9_level0_row2\" class=\"row_heading level0 row2\" >3</th>\n",
       "                        <td id=\"T_885a9_row2_col0\" class=\"data row2 col0\" >391</td>\n",
       "                        <td id=\"T_885a9_row2_col1\" class=\"data row2 col1\" >62</td>\n",
       "                        <td id=\"T_885a9_row2_col2\" class=\"data row2 col2\" >453</td>\n",
       "            </tr>\n",
       "            <tr>\n",
       "                        <th id=\"T_885a9_level0_row3\" class=\"row_heading level0 row3\" >4</th>\n",
       "                        <td id=\"T_885a9_row3_col0\" class=\"data row3 col0\" >386</td>\n",
       "                        <td id=\"T_885a9_row3_col1\" class=\"data row3 col1\" >60</td>\n",
       "                        <td id=\"T_885a9_row3_col2\" class=\"data row3 col2\" >446</td>\n",
       "            </tr>\n",
       "            <tr>\n",
       "                        <th id=\"T_885a9_level0_row4\" class=\"row_heading level0 row4\" >All</th>\n",
       "                        <td id=\"T_885a9_row4_col0\" class=\"data row4 col0\" >1233</td>\n",
       "                        <td id=\"T_885a9_row4_col1\" class=\"data row4 col1\" >237</td>\n",
       "                        <td id=\"T_885a9_row4_col2\" class=\"data row4 col2\" >1470</td>\n",
       "            </tr>\n",
       "    </tbody></table>"
      ],
      "text/plain": [
       "<pandas.io.formats.style.Styler at 0x27c5a242640>"
      ]
     },
     "execution_count": 8,
     "metadata": {},
     "output_type": "execute_result"
    }
   ],
   "source": [
    "pd.crosstab([data.EnvironmentSatisfaction],[data.Attrition],\n",
    "                            margins=True).style.background_gradient(cmap='summer_r')"
   ]
  },
  {
   "cell_type": "code",
   "execution_count": 9,
   "id": "65940181",
   "metadata": {},
   "outputs": [
    {
     "data": {
      "text/plain": [
       "<seaborn.axisgrid.FacetGrid at 0x27c54d73280>"
      ]
     },
     "execution_count": 9,
     "metadata": {},
     "output_type": "execute_result"
    },
    {
     "data": {
      "image/png": "[encoded data removed]",
      "text/plain": [
       "<Figure size 360x360 with 1 Axes>"
      ]
     },
     "metadata": {
      "needs_background": "light"
     },
     "output_type": "display_data"
    }
   ],
   "source": [
    "sns.factorplot('Attrition','EnvironmentSatisfaction',data=data)"
   ]
  },
  {
   "cell_type": "code",
   "execution_count": 10,
   "id": "711751ae",
   "metadata": {
    "scrolled": true
   },
   "outputs": [
    {
     "data": {
      "text/plain": [
       "[<matplotlib.lines.Line2D at 0x27c5a863f40>]"
      ]
     },
     "metadata": {},
     "output_type": "display_data"
    },
    {
     "data": {
      "text/plain": [
       "[<matplotlib.lines.Line2D at 0x27c5a86e4c0>]"
      ]
     },
     "metadata": {},
     "output_type": "display_data"
    },
    {
     "data": {
      "image/png": "[encoded data removed]",
      "text/plain": [
       "<Figure size 432x288 with 1 Axes>"
      ]
     },
     "metadata": {
      "needs_background": "light"
     },
     "output_type": "display_data"
    }
   ],
   "source": [
    "att_yes_e_s=data[data['Attrition']=='Yes'].groupby('EnvironmentSatisfaction').count()[['Attrition']]\n",
    "att_no_e_s=data[data['Attrition']=='No'].groupby('EnvironmentSatisfaction').count()[['Attrition']]\n",
    "display(plt.plot(att_no_e_s['Attrition']))\n",
    "display(plt.plot(att_yes_e_s['Attrition']))"
   ]
  },
  {
   "cell_type": "code",
   "execution_count": 11,
   "id": "85ebbe37",
   "metadata": {},
   "outputs": [
    {
     "data": {
      "text/plain": [
       "<AxesSubplot:xlabel='EnvironmentSatisfaction', ylabel='count'>"
      ]
     },
     "execution_count": 11,
     "metadata": {},
     "output_type": "execute_result"
    },
    {
     "data": {
      "image/png": "[encoded data removed]",
      "text/plain": [
       "<Figure size 432x288 with 1 Axes>"
      ]
     },
     "metadata": {
      "needs_background": "light"
     },
     "output_type": "display_data"
    }
   ],
   "source": [
    "sns.countplot(data['EnvironmentSatisfaction'], hue='Attrition', data=data,dodge = True) "
   ]
  },
  {
   "cell_type": "markdown",
   "id": "9e4c63ea",
   "metadata": {},
   "source": [
    "- 환경만족도를 낮게 준 사람들이 주로 퇴사했고, 환경에 만족한 사람들은 퇴사를 하지 않는 경향이 크다. "
   ]
  },
  {
   "cell_type": "markdown",
   "id": "dd64d925",
   "metadata": {},
   "source": [
    "## JobSatisfaction"
   ]
  },
  {
   "cell_type": "code",
   "execution_count": 12,
   "id": "b2ca0df2",
   "metadata": {
    "scrolled": false
   },
   "outputs": [
    {
     "data": {
      "text/plain": [
       "4    459\n",
       "3    442\n",
       "1    289\n",
       "2    280\n",
       "Name: JobSatisfaction, dtype: int64"
      ]
     },
     "execution_count": 12,
     "metadata": {},
     "output_type": "execute_result"
    }
   ],
   "source": [
    "data['JobSatisfaction'].value_counts()"
   ]
  },
  {
   "cell_type": "code",
   "execution_count": 13,
   "id": "72586d67",
   "metadata": {},
   "outputs": [
    {
     "data": {
      "text/plain": [
       "<seaborn.axisgrid.FacetGrid at 0x27c5a87e490>"
      ]
     },
     "execution_count": 13,
     "metadata": {},
     "output_type": "execute_result"
    },
    {
     "data": {
      "image/png": "[encoded data removed]",
      "text/plain": [
       "<Figure size 360x360 with 1 Axes>"
      ]
     },
     "metadata": {
      "needs_background": "light"
     },
     "output_type": "display_data"
    }
   ],
   "source": [
    "sns.factorplot('Attrition','JobSatisfaction',data=data)"
   ]
  },
  {
   "cell_type": "code",
   "execution_count": 14,
   "id": "30701e09",
   "metadata": {
    "scrolled": true
   },
   "outputs": [
    {
     "data": {
      "text/plain": [
       "<AxesSubplot:xlabel='JobSatisfaction', ylabel='count'>"
      ]
     },
     "execution_count": 14,
     "metadata": {},
     "output_type": "execute_result"
    },
    {
     "data": {
      "image/png": "[encoded data removed]",
      "text/plain": [
       "<Figure size 432x288 with 1 Axes>"
      ]
     },
     "metadata": {
      "needs_background": "light"
     },
     "output_type": "display_data"
    }
   ],
   "source": [
    "sns.countplot(data['JobSatisfaction'], hue='Attrition', data=data,dodge = True) "
   ]
  },
  {
   "cell_type": "markdown",
   "id": "e7b6ffb3",
   "metadata": {},
   "source": [
    "- 마찬가지로 JobSatisfaction이 높은 사람들이 퇴사율이 적다."
   ]
  },
  {
   "cell_type": "code",
   "execution_count": 82,
   "id": "387428f5",
   "metadata": {
    "scrolled": false
   },
   "outputs": [
    {
     "data": {
      "text/plain": [
       "<seaborn.axisgrid.FacetGrid at 0x27c5c599460>"
      ]
     },
     "execution_count": 82,
     "metadata": {},
     "output_type": "execute_result"
    },
    {
     "data": {
      "image/png": "[encoded data removed]",
      "text/plain": [
       "<Figure size 432.125x360 with 1 Axes>"
      ]
     },
     "metadata": {
      "needs_background": "light"
     },
     "output_type": "display_data"
    }
   ],
   "source": [
    "sns.factorplot('Attrition','EnvironmentSatisfaction',data=data, hue='Gender')"
   ]
  },
  {
   "cell_type": "code",
   "execution_count": 83,
   "id": "f3f86025",
   "metadata": {},
   "outputs": [
    {
     "data": {
      "text/plain": [
       "<seaborn.axisgrid.FacetGrid at 0x27c5c6dceb0>"
      ]
     },
     "execution_count": 83,
     "metadata": {},
     "output_type": "execute_result"
    },
    {
     "data": {
      "image/png": "[encoded data removed]",
      "text/plain": [
       "<Figure size 432.125x360 with 1 Axes>"
      ]
     },
     "metadata": {
      "needs_background": "light"
     },
     "output_type": "display_data"
    }
   ],
   "source": [
    "sns.factorplot('Attrition','JobSatisfaction',data=data, hue='Gender')"
   ]
  },
  {
   "cell_type": "markdown",
   "id": "eeb86ff5",
   "metadata": {},
   "source": [
    "## RelationshipSatisfaction"
   ]
  },
  {
   "cell_type": "code",
   "execution_count": 51,
   "id": "1e28e1d3",
   "metadata": {
    "scrolled": false
   },
   "outputs": [
    {
     "data": {
      "text/plain": [
       "3    459\n",
       "4    432\n",
       "2    303\n",
       "1    276\n",
       "Name: RelationshipSatisfaction, dtype: int64"
      ]
     },
     "execution_count": 51,
     "metadata": {},
     "output_type": "execute_result"
    }
   ],
   "source": [
    "data['RelationshipSatisfaction'].value_counts()"
   ]
  },
  {
   "cell_type": "code",
   "execution_count": 52,
   "id": "6f111c8b",
   "metadata": {
    "scrolled": true
   },
   "outputs": [
    {
     "data": {
      "text/plain": [
       "<seaborn.axisgrid.FacetGrid at 0x27c5a9cd820>"
      ]
     },
     "execution_count": 52,
     "metadata": {},
     "output_type": "execute_result"
    },
    {
     "data": {
      "image/png": "[encoded data removed]",
      "text/plain": [
       "<Figure size 360x360 with 1 Axes>"
      ]
     },
     "metadata": {
      "needs_background": "light"
     },
     "output_type": "display_data"
    }
   ],
   "source": [
    "sns.factorplot('Attrition','RelationshipSatisfaction',data=data)"
   ]
  },
  {
   "cell_type": "code",
   "execution_count": 53,
   "id": "200a8552",
   "metadata": {
    "scrolled": true
   },
   "outputs": [
    {
     "data": {
      "text/plain": [
       "<AxesSubplot:xlabel='RelationshipSatisfaction', ylabel='count'>"
      ]
     },
     "execution_count": 53,
     "metadata": {},
     "output_type": "execute_result"
    },
    {
     "data": {
      "image/png": "[encoded data removed]",
      "text/plain": [
       "<Figure size 432x288 with 1 Axes>"
      ]
     },
     "metadata": {
      "needs_background": "light"
     },
     "output_type": "display_data"
    }
   ],
   "source": [
    "sns.countplot(data['RelationshipSatisfaction'], hue='Attrition', data=data,dodge = True)"
   ]
  },
  {
   "cell_type": "code",
   "execution_count": 54,
   "id": "c91652c2",
   "metadata": {},
   "outputs": [
    {
     "data": {
      "text/plain": [
       "[<matplotlib.lines.Line2D at 0x27c5bef2eb0>]"
      ]
     },
     "metadata": {},
     "output_type": "display_data"
    },
    {
     "data": {
      "text/plain": [
       "[<matplotlib.lines.Line2D at 0x27c5bf00490>]"
      ]
     },
     "metadata": {},
     "output_type": "display_data"
    },
    {
     "data": {
      "image/png": "[encoded data removed]",
      "text/plain": [
       "<Figure size 432x288 with 1 Axes>"
      ]
     },
     "metadata": {
      "needs_background": "light"
     },
     "output_type": "display_data"
    }
   ],
   "source": [
    "att_yes_r_s=data[data['Attrition']=='Yes'].groupby('RelationshipSatisfaction').count()[['Attrition']]\n",
    "att_no_r_s=data[data['Attrition']=='No'].groupby('RelationshipSatisfaction').count()[['Attrition']]\n",
    "display(plt.plot(att_no_r_s['Attrition']))\n",
    "display(plt.plot(att_yes_r_s['Attrition']))"
   ]
  },
  {
   "cell_type": "code",
   "execution_count": 55,
   "id": "3d0e8f1b",
   "metadata": {},
   "outputs": [
    {
     "data": {
      "text/html": [
       "<div>\n",
       "<style scoped>\n",
       "    .dataframe tbody tr th:only-of-type {\n",
       "        vertical-align: middle;\n",
       "    }\n",
       "\n",
       "    .dataframe tbody tr th {\n",
       "        vertical-align: top;\n",
       "    }\n",
       "\n",
       "    .dataframe thead th {\n",
       "        text-align: right;\n",
       "    }\n",
       "</style>\n",
       "<table border=\"1\" class=\"dataframe\">\n",
       "  <thead>\n",
       "    <tr style=\"text-align: right;\">\n",
       "      <th></th>\n",
       "      <th>Attrition</th>\n",
       "    </tr>\n",
       "    <tr>\n",
       "      <th>RelationshipSatisfaction</th>\n",
       "      <th></th>\n",
       "    </tr>\n",
       "  </thead>\n",
       "  <tbody>\n",
       "    <tr>\n",
       "      <th>1</th>\n",
       "      <td>57</td>\n",
       "    </tr>\n",
       "    <tr>\n",
       "      <th>2</th>\n",
       "      <td>45</td>\n",
       "    </tr>\n",
       "    <tr>\n",
       "      <th>3</th>\n",
       "      <td>71</td>\n",
       "    </tr>\n",
       "    <tr>\n",
       "      <th>4</th>\n",
       "      <td>64</td>\n",
       "    </tr>\n",
       "  </tbody>\n",
       "</table>\n",
       "</div>"
      ],
      "text/plain": [
       "                          Attrition\n",
       "RelationshipSatisfaction           \n",
       "1                                57\n",
       "2                                45\n",
       "3                                71\n",
       "4                                64"
      ]
     },
     "execution_count": 55,
     "metadata": {},
     "output_type": "execute_result"
    }
   ],
   "source": [
    "att_yes_r_s"
   ]
  },
  {
   "cell_type": "markdown",
   "id": "573d2675",
   "metadata": {},
   "source": [
    "- RelationshipSatisfaction이 높으면 퇴사를 덜하는 것 같긴 하지만,\\\n",
    "RelationshipSatisfaction이 낮다고 해서 퇴사를 덜하는 것은 아닌 것 같다"
   ]
  },
  {
   "cell_type": "markdown",
   "id": "a5556690",
   "metadata": {},
   "source": [
    "## WorkLifeBalance"
   ]
  },
  {
   "cell_type": "code",
   "execution_count": 56,
   "id": "77d9e3f4",
   "metadata": {
    "scrolled": true
   },
   "outputs": [
    {
     "data": {
      "text/plain": [
       "3    893\n",
       "2    344\n",
       "4    153\n",
       "1     80\n",
       "Name: WorkLifeBalance, dtype: int64"
      ]
     },
     "execution_count": 56,
     "metadata": {},
     "output_type": "execute_result"
    }
   ],
   "source": [
    "data['WorkLifeBalance'].value_counts()"
   ]
  },
  {
   "cell_type": "code",
   "execution_count": 57,
   "id": "6132ec8a",
   "metadata": {
    "scrolled": true
   },
   "outputs": [
    {
     "data": {
      "text/plain": [
       "<seaborn.axisgrid.FacetGrid at 0x27c5ae11040>"
      ]
     },
     "execution_count": 57,
     "metadata": {},
     "output_type": "execute_result"
    },
    {
     "data": {
      "image/png": "[encoded data removed]",
      "text/plain": [
       "<Figure size 360x360 with 1 Axes>"
      ]
     },
     "metadata": {
      "needs_background": "light"
     },
     "output_type": "display_data"
    }
   ],
   "source": [
    "sns.factorplot('Attrition','WorkLifeBalance',data=data)"
   ]
  },
  {
   "cell_type": "code",
   "execution_count": 58,
   "id": "31e1b96b",
   "metadata": {
    "scrolled": false
   },
   "outputs": [
    {
     "data": {
      "text/plain": [
       "<AxesSubplot:xlabel='WorkLifeBalance', ylabel='count'>"
      ]
     },
     "execution_count": 58,
     "metadata": {},
     "output_type": "execute_result"
    },
    {
     "data": {
      "image/png": "[encoded data removed]",
      "text/plain": [
       "<Figure size 432x288 with 1 Axes>"
      ]
     },
     "metadata": {
      "needs_background": "light"
     },
     "output_type": "display_data"
    }
   ],
   "source": [
    "sns.countplot(data['WorkLifeBalance'], hue='Attrition', data=data,dodge = True)"
   ]
  },
  {
   "cell_type": "code",
   "execution_count": 59,
   "id": "00561ee1",
   "metadata": {
    "scrolled": true
   },
   "outputs": [
    {
     "data": {
      "text/html": [
       "<style  type=\"text/css\" >\n",
       "#T_b19f7_row0_col0,#T_b19f7_row0_col1,#T_b19f7_row0_col2{\n",
       "            background-color:  #ffff66;\n",
       "            color:  #000000;\n",
       "        }#T_b19f7_row1_col0{\n",
       "            background-color:  #cde666;\n",
       "            color:  #000000;\n",
       "        }#T_b19f7_row1_col1{\n",
       "            background-color:  #d8ec66;\n",
       "            color:  #000000;\n",
       "        }#T_b19f7_row1_col2{\n",
       "            background-color:  #cfe766;\n",
       "            color:  #000000;\n",
       "        }#T_b19f7_row2_col0{\n",
       "            background-color:  #65b266;\n",
       "            color:  #000000;\n",
       "        }#T_b19f7_row2_col1{\n",
       "            background-color:  #84c266;\n",
       "            color:  #000000;\n",
       "        }#T_b19f7_row2_col2{\n",
       "            background-color:  #6ab466;\n",
       "            color:  #000000;\n",
       "        }#T_b19f7_row3_col0{\n",
       "            background-color:  #f0f866;\n",
       "            color:  #000000;\n",
       "        }#T_b19f7_row3_col1{\n",
       "            background-color:  #fdfe66;\n",
       "            color:  #000000;\n",
       "        }#T_b19f7_row3_col2{\n",
       "            background-color:  #f2f866;\n",
       "            color:  #000000;\n",
       "        }#T_b19f7_row4_col0,#T_b19f7_row4_col1,#T_b19f7_row4_col2{\n",
       "            background-color:  #008066;\n",
       "            color:  #f1f1f1;\n",
       "        }</style><table id=\"T_b19f7_\" ><thead>    <tr>        <th class=\"index_name level0\" >Attrition</th>        <th class=\"col_heading level0 col0\" >No</th>        <th class=\"col_heading level0 col1\" >Yes</th>        <th class=\"col_heading level0 col2\" >All</th>    </tr>    <tr>        <th class=\"index_name level0\" >WorkLifeBalance</th>        <th class=\"blank\" ></th>        <th class=\"blank\" ></th>        <th class=\"blank\" ></th>    </tr></thead><tbody>\n",
       "                <tr>\n",
       "                        <th id=\"T_b19f7_level0_row0\" class=\"row_heading level0 row0\" >1</th>\n",
       "                        <td id=\"T_b19f7_row0_col0\" class=\"data row0 col0\" >55</td>\n",
       "                        <td id=\"T_b19f7_row0_col1\" class=\"data row0 col1\" >25</td>\n",
       "                        <td id=\"T_b19f7_row0_col2\" class=\"data row0 col2\" >80</td>\n",
       "            </tr>\n",
       "            <tr>\n",
       "                        <th id=\"T_b19f7_level0_row1\" class=\"row_heading level0 row1\" >2</th>\n",
       "                        <td id=\"T_b19f7_row1_col0\" class=\"data row1 col0\" >286</td>\n",
       "                        <td id=\"T_b19f7_row1_col1\" class=\"data row1 col1\" >58</td>\n",
       "                        <td id=\"T_b19f7_row1_col2\" class=\"data row1 col2\" >344</td>\n",
       "            </tr>\n",
       "            <tr>\n",
       "                        <th id=\"T_b19f7_level0_row2\" class=\"row_heading level0 row2\" >3</th>\n",
       "                        <td id=\"T_b19f7_row2_col0\" class=\"data row2 col0\" >766</td>\n",
       "                        <td id=\"T_b19f7_row2_col1\" class=\"data row2 col1\" >127</td>\n",
       "                        <td id=\"T_b19f7_row2_col2\" class=\"data row2 col2\" >893</td>\n",
       "            </tr>\n",
       "            <tr>\n",
       "                        <th id=\"T_b19f7_level0_row3\" class=\"row_heading level0 row3\" >4</th>\n",
       "                        <td id=\"T_b19f7_row3_col0\" class=\"data row3 col0\" >126</td>\n",
       "                        <td id=\"T_b19f7_row3_col1\" class=\"data row3 col1\" >27</td>\n",
       "                        <td id=\"T_b19f7_row3_col2\" class=\"data row3 col2\" >153</td>\n",
       "            </tr>\n",
       "            <tr>\n",
       "                        <th id=\"T_b19f7_level0_row4\" class=\"row_heading level0 row4\" >All</th>\n",
       "                        <td id=\"T_b19f7_row4_col0\" class=\"data row4 col0\" >1233</td>\n",
       "                        <td id=\"T_b19f7_row4_col1\" class=\"data row4 col1\" >237</td>\n",
       "                        <td id=\"T_b19f7_row4_col2\" class=\"data row4 col2\" >1470</td>\n",
       "            </tr>\n",
       "    </tbody></table>"
      ],
      "text/plain": [
       "<pandas.io.formats.style.Styler at 0x27c59b4b370>"
      ]
     },
     "execution_count": 59,
     "metadata": {},
     "output_type": "execute_result"
    }
   ],
   "source": [
    "pd.crosstab([data.WorkLifeBalance],[data.Attrition],\n",
    "                            margins=True).style.background_gradient(cmap='summer_r')"
   ]
  },
  {
   "cell_type": "code",
   "execution_count": 60,
   "id": "04b2d7f4",
   "metadata": {},
   "outputs": [
    {
     "data": {
      "text/plain": [
       "WorkLifeBalance\n",
       "1    0.312500\n",
       "2    0.168605\n",
       "3    0.142217\n",
       "4    0.176471\n",
       "Name: Attrition, dtype: float64"
      ]
     },
     "execution_count": 60,
     "metadata": {},
     "output_type": "execute_result"
    }
   ],
   "source": [
    "#워라밸 만족도별 퇴사자/전체수\n",
    "data[data['Attrition']=='Yes'].groupby('WorkLifeBalance').count()['Attrition']/data.groupby('WorkLifeBalance').count()['Attrition']"
   ]
  },
  {
   "cell_type": "code",
   "execution_count": 61,
   "id": "b82e759a",
   "metadata": {
    "scrolled": true
   },
   "outputs": [
    {
     "data": {
      "text/html": [
       "<div>\n",
       "<style scoped>\n",
       "    .dataframe tbody tr th:only-of-type {\n",
       "        vertical-align: middle;\n",
       "    }\n",
       "\n",
       "    .dataframe tbody tr th {\n",
       "        vertical-align: top;\n",
       "    }\n",
       "\n",
       "    .dataframe thead th {\n",
       "        text-align: right;\n",
       "    }\n",
       "</style>\n",
       "<table border=\"1\" class=\"dataframe\">\n",
       "  <thead>\n",
       "    <tr style=\"text-align: right;\">\n",
       "      <th></th>\n",
       "      <th>WorkLifeBalance</th>\n",
       "      <th>1점</th>\n",
       "      <th>2점</th>\n",
       "      <th>3점</th>\n",
       "      <th>4점</th>\n",
       "    </tr>\n",
       "    <tr>\n",
       "      <th>Attrition</th>\n",
       "      <th></th>\n",
       "      <th></th>\n",
       "      <th></th>\n",
       "      <th></th>\n",
       "      <th></th>\n",
       "    </tr>\n",
       "  </thead>\n",
       "  <tbody>\n",
       "    <tr>\n",
       "      <th>No</th>\n",
       "      <td>3429</td>\n",
       "      <td>55</td>\n",
       "      <td>572</td>\n",
       "      <td>2298</td>\n",
       "      <td>504</td>\n",
       "    </tr>\n",
       "    <tr>\n",
       "      <th>Yes</th>\n",
       "      <td>630</td>\n",
       "      <td>25</td>\n",
       "      <td>116</td>\n",
       "      <td>381</td>\n",
       "      <td>108</td>\n",
       "    </tr>\n",
       "  </tbody>\n",
       "</table>\n",
       "</div>"
      ],
      "text/plain": [
       "           WorkLifeBalance  1점   2점    3점   4점\n",
       "Attrition                                     \n",
       "No                    3429  55  572  2298  504\n",
       "Yes                    630  25  116   381  108"
      ]
     },
     "execution_count": 61,
     "metadata": {},
     "output_type": "execute_result"
    }
   ],
   "source": [
    "workandlife_df=data[data['WorkLifeBalance']<5].groupby('Attrition').sum()[['WorkLifeBalance']]\n",
    "workandlife_df['1점']=data[data['WorkLifeBalance']==1].groupby('Attrition').sum()[['WorkLifeBalance']]\n",
    "workandlife_df['2점']=data[data['WorkLifeBalance']==2].groupby('Attrition').sum()[['WorkLifeBalance']]\n",
    "workandlife_df['3점']=data[data['WorkLifeBalance']==3].groupby('Attrition').sum()[['WorkLifeBalance']]\n",
    "workandlife_df['4점']=data[data['WorkLifeBalance']==4].groupby('Attrition').sum()[['WorkLifeBalance']]\n",
    "workandlife_df"
   ]
  },
  {
   "cell_type": "code",
   "execution_count": 62,
   "id": "ccfea9e4",
   "metadata": {
    "scrolled": true
   },
   "outputs": [
    {
     "data": {
      "text/plain": [
       "[<matplotlib.lines.Line2D at 0x27c5bf90c40>]"
      ]
     },
     "metadata": {},
     "output_type": "display_data"
    },
    {
     "data": {
      "text/plain": [
       "[<matplotlib.lines.Line2D at 0x27c5bfe7910>]"
      ]
     },
     "metadata": {},
     "output_type": "display_data"
    },
    {
     "data": {
      "image/png": "[encoded data removed]",
      "text/plain": [
       "<Figure size 432x288 with 1 Axes>"
      ]
     },
     "metadata": {
      "needs_background": "light"
     },
     "output_type": "display_data"
    }
   ],
   "source": [
    "att_yes_Lb_s=data[data['Attrition']=='Yes'].groupby('WorkLifeBalance').count()[['Attrition']]\n",
    "att_no_Lb_s=data[data['Attrition']=='No'].groupby('WorkLifeBalance').count()[['Attrition']]\n",
    "display(plt.plot(att_no_Lb_s['Attrition'])) #재직자\n",
    "display(plt.plot(att_yes_Lb_s['Attrition'])) #퇴사자"
   ]
  },
  {
   "cell_type": "markdown",
   "id": "5df9b3bc",
   "metadata": {},
   "source": [
    "- 워라밸 만족도가 낮은 1의 경우 퇴사율이 높은 것은 맞지만,\n",
    "워라밸이 높다고 해서 퇴사를 안하는 건 아닌 것 같음..!\\\n",
    "퇴사자 630명 중에 489명이 워래밸에 3 또는 4점을 줌."
   ]
  },
  {
   "cell_type": "markdown",
   "id": "7a2eef9f",
   "metadata": {},
   "source": [
    "## YearsAtCompany"
   ]
  },
  {
   "cell_type": "code",
   "execution_count": 63,
   "id": "53676fec",
   "metadata": {
    "scrolled": false
   },
   "outputs": [
    {
     "data": {
      "image/png": "[encoded data removed]",
      "text/plain": [
       "<Figure size 432x288 with 1 Axes>"
      ]
     },
     "metadata": {
      "needs_background": "light"
     },
     "output_type": "display_data"
    }
   ],
   "source": [
    "plt.hist(data['YearsAtCompany'],bins=30)\n",
    "plt.xlabel('years at company')\n",
    "plt.ylabel('count')\n",
    "plt.title('Years At Company')\n",
    "plt.show()"
   ]
  },
  {
   "cell_type": "code",
   "execution_count": 64,
   "id": "534d9aaa",
   "metadata": {},
   "outputs": [
    {
     "data": {
      "text/plain": [
       "(array([140., 208., 266., 146., 145., 132.,  14.,  38.,  30.,  20.,  36.,\n",
       "         27.,   6.,   4.,   6.,   2.,   3.,   6.,   1.,   3.]),\n",
       " array([ 0.  ,  1.85,  3.7 ,  5.55,  7.4 ,  9.25, 11.1 , 12.95, 14.8 ,\n",
       "        16.65, 18.5 , 20.35, 22.2 , 24.05, 25.9 , 27.75, 29.6 , 31.45,\n",
       "        33.3 , 35.15, 37.  ]),\n",
       " <BarContainer object of 20 artists>)"
      ]
     },
     "execution_count": 64,
     "metadata": {},
     "output_type": "execute_result"
    },
    {
     "data": {
      "image/png": "[encoded data removed]",
      "text/plain": [
       "<Figure size 864x360 with 2 Axes>"
      ]
     },
     "metadata": {
      "needs_background": "light"
     },
     "output_type": "display_data"
    }
   ],
   "source": [
    "f, axes = plt.subplots(1,2)\n",
    "f.set_size_inches(12,5)\n",
    "axes[0].hist(data[data['Attrition']=='Yes'][['YearsAtCompany']],bins=20)\n",
    "axes[1].hist(data[data['Attrition']=='No'][['YearsAtCompany']],bins=20)"
   ]
  },
  {
   "cell_type": "code",
   "execution_count": 65,
   "id": "15014bf5",
   "metadata": {},
   "outputs": [
    {
     "name": "stdout",
     "output_type": "stream",
     "text": [
      "퇴사O의 평균 근무기간 :  YearsAtCompany    5.130802\n",
      "dtype: float64\n",
      "퇴사X의 평균 근무기간 :  YearsAtCompany    7.369019\n",
      "dtype: float64\n"
     ]
    }
   ],
   "source": [
    "print('퇴사O의 평균 근무기간 : ',data[data['Attrition']=='Yes'][['YearsAtCompany']].mean())\n",
    "print('퇴사X의 평균 근무기간 : ',data[data['Attrition']=='No'][['YearsAtCompany']].mean())"
   ]
  },
  {
   "cell_type": "markdown",
   "id": "3c03562f",
   "metadata": {},
   "source": [
    "퇴사자들의 평균 근무기간이 퇴사하지 않는 사람들보다 약 2년정도 적다.\n",
    "5년이내 퇴사자수가 가장 많은데, 회사랑 맞지 않으면 바로 나가버리는 듯."
   ]
  },
  {
   "cell_type": "code",
   "execution_count": 66,
   "id": "100704c6",
   "metadata": {},
   "outputs": [
    {
     "data": {
      "text/plain": [
       "<AxesSubplot:xlabel='Attrition', ylabel='YearsAtCompany'>"
      ]
     },
     "execution_count": 66,
     "metadata": {},
     "output_type": "execute_result"
    },
    {
     "data": {
      "image/png": "[encoded data removed]",
      "text/plain": [
       "<Figure size 432x288 with 1 Axes>"
      ]
     },
     "metadata": {
      "needs_background": "light"
     },
     "output_type": "display_data"
    }
   ],
   "source": [
    "sns.violinplot(data=data, x=data['Attrition'] ,y=data['YearsAtCompany'],hue='Gender')"
   ]
  },
  {
   "cell_type": "markdown",
   "id": "c29192a2",
   "metadata": {},
   "source": [
    "## YearsInCurrentRole"
   ]
  },
  {
   "cell_type": "code",
   "execution_count": 67,
   "id": "03f25b16",
   "metadata": {
    "scrolled": true
   },
   "outputs": [
    {
     "data": {
      "text/plain": [
       "(array([301., 507., 140., 259.,  89.,  96.,  32.,  25.,  15.,   6.]),\n",
       " array([ 0. ,  1.8,  3.6,  5.4,  7.2,  9. , 10.8, 12.6, 14.4, 16.2, 18. ]),\n",
       " <BarContainer object of 10 artists>)"
      ]
     },
     "execution_count": 67,
     "metadata": {},
     "output_type": "execute_result"
    },
    {
     "data": {
      "image/png": "[encoded data removed]",
      "text/plain": [
       "<Figure size 432x288 with 1 Axes>"
      ]
     },
     "metadata": {
      "needs_background": "light"
     },
     "output_type": "display_data"
    }
   ],
   "source": [
    "plt.hist(data['YearsInCurrentRole'])"
   ]
  },
  {
   "cell_type": "code",
   "execution_count": 68,
   "id": "bc2268cf",
   "metadata": {},
   "outputs": [
    {
     "data": {
      "text/plain": [
       "(array([171.,  46., 304., 119.,  89.,  35.,  35., 191.,  82.,   0.,  61.,\n",
       "         27.,  22.,   9.,  13.,  10.,   6.,   7.,   4.,   2.]),\n",
       " array([ 0. ,  0.9,  1.8,  2.7,  3.6,  4.5,  5.4,  6.3,  7.2,  8.1,  9. ,\n",
       "         9.9, 10.8, 11.7, 12.6, 13.5, 14.4, 15.3, 16.2, 17.1, 18. ]),\n",
       " <BarContainer object of 20 artists>)"
      ]
     },
     "execution_count": 68,
     "metadata": {},
     "output_type": "execute_result"
    },
    {
     "data": {
      "image/png": "[encoded data removed]",
      "text/plain": [
       "<Figure size 864x360 with 2 Axes>"
      ]
     },
     "metadata": {
      "needs_background": "light"
     },
     "output_type": "display_data"
    }
   ],
   "source": [
    "f, axes = plt.subplots(1,2)\n",
    "f.set_size_inches(12,5)\n",
    "axes[0].hist(data[data['Attrition']=='Yes'][['YearsInCurrentRole']],bins=20)\n",
    "axes[1].hist(data[data['Attrition']=='No'][['YearsInCurrentRole']],bins=20)"
   ]
  },
  {
   "cell_type": "code",
   "execution_count": 69,
   "id": "89978de3",
   "metadata": {},
   "outputs": [
    {
     "name": "stdout",
     "output_type": "stream",
     "text": [
      "퇴사O의 평균 현재업무지속기간 :  YearsInCurrentRole    2.902954\n",
      "dtype: float64\n",
      "퇴사X의 평균 현재업무지속기간 :  YearsInCurrentRole    4.484185\n",
      "dtype: float64\n"
     ]
    }
   ],
   "source": [
    "print('퇴사O의 평균 현재업무지속기간 : ',data[data['Attrition']=='Yes'][['YearsInCurrentRole']].mean())\n",
    "print('퇴사X의 평균 현재업무지속기간 : ',data[data['Attrition']=='No'][['YearsInCurrentRole']].mean())"
   ]
  },
  {
   "cell_type": "code",
   "execution_count": 70,
   "id": "b82c5c6f",
   "metadata": {},
   "outputs": [
    {
     "data": {
      "text/plain": [
       "<AxesSubplot:xlabel='Attrition', ylabel='YearsInCurrentRole'>"
      ]
     },
     "execution_count": 70,
     "metadata": {},
     "output_type": "execute_result"
    },
    {
     "data": {
      "image/png": "[encoded data removed]",
      "text/plain": [
       "<Figure size 432x288 with 1 Axes>"
      ]
     },
     "metadata": {
      "needs_background": "light"
     },
     "output_type": "display_data"
    }
   ],
   "source": [
    "sns.violinplot(data=data, x=data['Attrition'] ,y=data['YearsInCurrentRole'],hue='Gender')"
   ]
  },
  {
   "cell_type": "markdown",
   "id": "ecef5a01",
   "metadata": {},
   "source": [
    "별 필요없는듯.."
   ]
  },
  {
   "cell_type": "markdown",
   "id": "e708cd4a",
   "metadata": {},
   "source": [
    "## YearsSinceLastPromotion"
   ]
  },
  {
   "cell_type": "code",
   "execution_count": 71,
   "id": "d002b5ff",
   "metadata": {
    "scrolled": true
   },
   "outputs": [
    {
     "data": {
      "text/plain": [
       "(array([938., 159., 113.,  45., 108.,  18.,  23.,  24.,  20.,  22.]),\n",
       " array([ 0. ,  1.5,  3. ,  4.5,  6. ,  7.5,  9. , 10.5, 12. , 13.5, 15. ]),\n",
       " <BarContainer object of 10 artists>)"
      ]
     },
     "execution_count": 71,
     "metadata": {},
     "output_type": "execute_result"
    },
    {
     "data": {
      "image/png": "[encoded data removed]",
      "text/plain": [
       "<Figure size 432x288 with 1 Axes>"
      ]
     },
     "metadata": {
      "needs_background": "light"
     },
     "output_type": "display_data"
    }
   ],
   "source": [
    "plt.hist(data['YearsSinceLastPromotion'])"
   ]
  },
  {
   "cell_type": "code",
   "execution_count": 72,
   "id": "a91dc2dd",
   "metadata": {},
   "outputs": [
    {
     "data": {
      "text/plain": [
       "(array([471., 308., 132.,  43.,  56.,  43.,  26.,  60.,  18.,  13.,   5.,\n",
       "         22.,  10.,   8.,  18.]),\n",
       " array([ 0.,  1.,  2.,  3.,  4.,  5.,  6.,  7.,  8.,  9., 10., 11., 12.,\n",
       "        13., 14., 15.]),\n",
       " <BarContainer object of 15 artists>)"
      ]
     },
     "execution_count": 72,
     "metadata": {},
     "output_type": "execute_result"
    },
    {
     "data": {
      "image/png": "[encoded data removed]",
      "text/plain": [
       "<Figure size 864x360 with 2 Axes>"
      ]
     },
     "metadata": {
      "needs_background": "light"
     },
     "output_type": "display_data"
    }
   ],
   "source": [
    "f, axes = plt.subplots(1,2)\n",
    "f.set_size_inches(12,5)\n",
    "axes[0].hist(data[data['Attrition']=='Yes'][['YearsSinceLastPromotion']],bins=15)\n",
    "axes[1].hist(data[data['Attrition']=='No'][['YearsSinceLastPromotion']],bins=15)"
   ]
  },
  {
   "cell_type": "code",
   "execution_count": 73,
   "id": "524c1469",
   "metadata": {
    "scrolled": true
   },
   "outputs": [
    {
     "name": "stdout",
     "output_type": "stream",
     "text": [
      "퇴사O의 평균 마지막승진으로부터의 기간 :  YearsSinceLastPromotion    1.945148\n",
      "dtype: float64\n",
      "퇴사X의 평균 마지막승진으로부터의 기간 :  YearsSinceLastPromotion    2.234388\n",
      "dtype: float64\n"
     ]
    }
   ],
   "source": [
    "print('퇴사O의 평균 마지막승진으로부터의 기간 : ',data[data['Attrition']=='Yes'][['YearsSinceLastPromotion']].mean())\n",
    "print('퇴사X의 평균 마지막승진으로부터의 기간 : ',data[data['Attrition']=='No'][['YearsSinceLastPromotion']].mean())"
   ]
  },
  {
   "cell_type": "markdown",
   "id": "aa43b348",
   "metadata": {},
   "source": [
    "마지막 승진으로부터의 기간과 퇴사는 큰 관계가 없다고 보임."
   ]
  },
  {
   "cell_type": "markdown",
   "id": "56ac0de6",
   "metadata": {},
   "source": [
    "## YearsWithCurrManager"
   ]
  },
  {
   "cell_type": "code",
   "execution_count": 74,
   "id": "e25738c7",
   "metadata": {},
   "outputs": [
    {
     "data": {
      "text/plain": [
       "(array([339., 486., 129.,  29., 323.,  91.,  22.,  32.,  10.,   9.]),\n",
       " array([ 0. ,  1.7,  3.4,  5.1,  6.8,  8.5, 10.2, 11.9, 13.6, 15.3, 17. ]),\n",
       " <BarContainer object of 10 artists>)"
      ]
     },
     "execution_count": 74,
     "metadata": {},
     "output_type": "execute_result"
    },
    {
     "data": {
      "image/png": "[encoded data removed]",
      "text/plain": [
       "<Figure size 432x288 with 1 Axes>"
      ]
     },
     "metadata": {
      "needs_background": "light"
     },
     "output_type": "display_data"
    }
   ],
   "source": [
    "plt.hist(data['YearsWithCurrManager'])"
   ]
  },
  {
   "cell_type": "code",
   "execution_count": 75,
   "id": "c87617b4",
   "metadata": {
    "scrolled": true
   },
   "outputs": [
    {
     "data": {
      "text/plain": [
       "(array([243., 294., 123.,  87.,  27.,  25., 185., 155.,  24.,  21.,  18.,\n",
       "         14.,   3.,   5.,   9.]),\n",
       " array([ 0.        ,  1.13333333,  2.26666667,  3.4       ,  4.53333333,\n",
       "         5.66666667,  6.8       ,  7.93333333,  9.06666667, 10.2       ,\n",
       "        11.33333333, 12.46666667, 13.6       , 14.73333333, 15.86666667,\n",
       "        17.        ]),\n",
       " <BarContainer object of 15 artists>)"
      ]
     },
     "execution_count": 75,
     "metadata": {},
     "output_type": "execute_result"
    },
    {
     "data": {
      "image/png": "[encoded data removed]",
      "text/plain": [
       "<Figure size 864x360 with 2 Axes>"
      ]
     },
     "metadata": {
      "needs_background": "light"
     },
     "output_type": "display_data"
    }
   ],
   "source": [
    "f, axes = plt.subplots(1,2)\n",
    "f.set_size_inches(12,5)\n",
    "axes[0].hist(data[data['Attrition']=='Yes'][['YearsWithCurrManager']],bins=15)\n",
    "axes[1].hist(data[data['Attrition']=='No'][['YearsWithCurrManager']],bins=15)"
   ]
  },
  {
   "cell_type": "code",
   "execution_count": 76,
   "id": "fade84f4",
   "metadata": {},
   "outputs": [
    {
     "name": "stdout",
     "output_type": "stream",
     "text": [
      "퇴사O의 평균 현재매니저와 일한 기간 :  YearsWithCurrManager    2.852321\n",
      "dtype: float64\n",
      "퇴사X의 평균 현재매니저와 일한 기간 :  YearsWithCurrManager    4.367397\n",
      "dtype: float64\n"
     ]
    }
   ],
   "source": [
    "print('퇴사O의 평균 현재매니저와 일한 기간 : ',data[data['Attrition']=='Yes'][['YearsWithCurrManager']].mean())\n",
    "print('퇴사X의 평균 현재매니저와 일한 기간 : ',data[data['Attrition']=='No'][['YearsWithCurrManager']].mean())"
   ]
  },
  {
   "cell_type": "markdown",
   "id": "ba884b38",
   "metadata": {},
   "source": [
    "밑에 heatmap에서 보면, 현재매니저와 일한 기간은 years at company와 0.62로 비교적 높은 상관관계가 있는 것으로 보인다."
   ]
  },
  {
   "cell_type": "code",
   "execution_count": 80,
   "id": "f112c078",
   "metadata": {
    "scrolled": true
   },
   "outputs": [],
   "source": [
    "years_df=data[['Attrition','YearsAtCompany', 'YearsInCurrentRole', 'YearsSinceLastPromotion', 'YearsWithCurrManager']]"
   ]
  },
  {
   "cell_type": "code",
   "execution_count": 78,
   "id": "13400dda",
   "metadata": {},
   "outputs": [
    {
     "data": {
      "text/plain": [
       "<AxesSubplot:>"
      ]
     },
     "execution_count": 78,
     "metadata": {},
     "output_type": "execute_result"
    },
    {
     "data": {
      "image/png": "[encoded data removed]",
      "text/plain": [
       "<Figure size 432x288 with 2 Axes>"
      ]
     },
     "metadata": {
      "needs_background": "light"
     },
     "output_type": "display_data"
    }
   ],
   "source": [
    "sns.heatmap(years_df.corr(),annot=True)"
   ]
  },
  {
   "cell_type": "markdown",
   "id": "554a6d4e",
   "metadata": {},
   "source": [
    "값이 0.7이상인 것을 뚜렷한 양적 상관관계가 있다고 볼때,\n",
    "years at company, yearn in curren role, years with curren mannager\n",
    "이 세가지 항목은 다중공선성이 나타난다고 볼 수 있다?!"
   ]
  }
 ],
 "metadata": {
  "kernelspec": {
   "display_name": "Python 3",
   "language": "python",
   "name": "python3"
  },
  "language_info": {
   "codemirror_mode": {
    "name": "ipython",
    "version": 3
   },
   "file_extension": ".py",
   "mimetype": "text/x-python",
   "name": "python",
   "nbconvert_exporter": "python",
   "pygments_lexer": "ipython3",
   "version": "3.8.8"
  },
  "toc": {
   "base_numbering": 1,
   "nav_menu": {},
   "number_sections": true,
   "sideBar": true,
   "skip_h1_title": false,
   "title_cell": "Table of Contents",
   "title_sidebar": "Contents",
   "toc_cell": false,
   "toc_position": {},
   "toc_section_display": true,
   "toc_window_display": false
  },
  "varInspector": {
   "cols": {
    "lenName": 16,
    "lenType": 16,
    "lenVar": 40
   },
   "kernels_config": {
    "python": {
     "delete_cmd_postfix": "",
     "delete_cmd_prefix": "del ",
     "library": "var_list.py",
     "varRefreshCmd": "print(var_dic_list())"
    },
    "r": {
     "delete_cmd_postfix": ") ",
     "delete_cmd_prefix": "rm(",
     "library": "var_list.r",
     "varRefreshCmd": "cat(var_dic_list()) "
    }
   },
   "types_to_exclude": [
    "module",
    "function",
    "builtin_function_or_method",
    "instance",
    "_Feature"
   ],
   "window_display": false
  }
 },
 "nbformat": 4,
 "nbformat_minor": 5
}
