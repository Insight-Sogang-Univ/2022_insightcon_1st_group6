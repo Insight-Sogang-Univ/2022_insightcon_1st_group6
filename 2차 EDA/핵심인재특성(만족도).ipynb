{
 "cells": [
  {
   "cell_type": "code",
   "execution_count": 1,
   "id": "0a1eb935",
   "metadata": {},
   "outputs": [
    {
     "data": {
      "text/html": [
       "<div>\n",
       "<style scoped>\n",
       "    .dataframe tbody tr th:only-of-type {\n",
       "        vertical-align: middle;\n",
       "    }\n",
       "\n",
       "    .dataframe tbody tr th {\n",
       "        vertical-align: top;\n",
       "    }\n",
       "\n",
       "    .dataframe thead th {\n",
       "        text-align: right;\n",
       "    }\n",
       "</style>\n",
       "<table border=\"1\" class=\"dataframe\">\n",
       "  <thead>\n",
       "    <tr style=\"text-align: right;\">\n",
       "      <th></th>\n",
       "      <th>Age</th>\n",
       "      <th>Attrition</th>\n",
       "      <th>BusinessTravel</th>\n",
       "      <th>DailyRate</th>\n",
       "      <th>Department</th>\n",
       "      <th>DistanceFromHome</th>\n",
       "      <th>Education</th>\n",
       "      <th>EducationField</th>\n",
       "      <th>EmployeeNumber</th>\n",
       "      <th>EnvironmentSatisfaction</th>\n",
       "      <th>...</th>\n",
       "      <th>RelationshipSatisfaction</th>\n",
       "      <th>StandardHours</th>\n",
       "      <th>StockOptionLevel</th>\n",
       "      <th>TotalWorkingYears</th>\n",
       "      <th>TrainingTimesLastYear</th>\n",
       "      <th>WorkLifeBalance</th>\n",
       "      <th>YearsAtCompany</th>\n",
       "      <th>YearsInCurrentRole</th>\n",
       "      <th>YearsSinceLastPromotion</th>\n",
       "      <th>YearsWithCurrManager</th>\n",
       "    </tr>\n",
       "  </thead>\n",
       "  <tbody>\n",
       "    <tr>\n",
       "      <th>0</th>\n",
       "      <td>41</td>\n",
       "      <td>Yes</td>\n",
       "      <td>Travel_Rarely</td>\n",
       "      <td>1102</td>\n",
       "      <td>Sales</td>\n",
       "      <td>1</td>\n",
       "      <td>2</td>\n",
       "      <td>Life Sciences</td>\n",
       "      <td>1</td>\n",
       "      <td>2</td>\n",
       "      <td>...</td>\n",
       "      <td>1</td>\n",
       "      <td>80</td>\n",
       "      <td>0</td>\n",
       "      <td>8</td>\n",
       "      <td>0</td>\n",
       "      <td>1</td>\n",
       "      <td>6</td>\n",
       "      <td>4</td>\n",
       "      <td>0</td>\n",
       "      <td>5</td>\n",
       "    </tr>\n",
       "    <tr>\n",
       "      <th>1</th>\n",
       "      <td>49</td>\n",
       "      <td>No</td>\n",
       "      <td>Travel_Frequently</td>\n",
       "      <td>279</td>\n",
       "      <td>Research &amp; Development</td>\n",
       "      <td>8</td>\n",
       "      <td>1</td>\n",
       "      <td>Life Sciences</td>\n",
       "      <td>2</td>\n",
       "      <td>3</td>\n",
       "      <td>...</td>\n",
       "      <td>4</td>\n",
       "      <td>80</td>\n",
       "      <td>1</td>\n",
       "      <td>10</td>\n",
       "      <td>3</td>\n",
       "      <td>3</td>\n",
       "      <td>10</td>\n",
       "      <td>7</td>\n",
       "      <td>1</td>\n",
       "      <td>7</td>\n",
       "    </tr>\n",
       "    <tr>\n",
       "      <th>2</th>\n",
       "      <td>37</td>\n",
       "      <td>Yes</td>\n",
       "      <td>Travel_Rarely</td>\n",
       "      <td>1373</td>\n",
       "      <td>Research &amp; Development</td>\n",
       "      <td>2</td>\n",
       "      <td>2</td>\n",
       "      <td>Other</td>\n",
       "      <td>4</td>\n",
       "      <td>4</td>\n",
       "      <td>...</td>\n",
       "      <td>2</td>\n",
       "      <td>80</td>\n",
       "      <td>0</td>\n",
       "      <td>7</td>\n",
       "      <td>3</td>\n",
       "      <td>3</td>\n",
       "      <td>0</td>\n",
       "      <td>0</td>\n",
       "      <td>0</td>\n",
       "      <td>0</td>\n",
       "    </tr>\n",
       "    <tr>\n",
       "      <th>3</th>\n",
       "      <td>33</td>\n",
       "      <td>No</td>\n",
       "      <td>Travel_Frequently</td>\n",
       "      <td>1392</td>\n",
       "      <td>Research &amp; Development</td>\n",
       "      <td>3</td>\n",
       "      <td>4</td>\n",
       "      <td>Life Sciences</td>\n",
       "      <td>5</td>\n",
       "      <td>4</td>\n",
       "      <td>...</td>\n",
       "      <td>3</td>\n",
       "      <td>80</td>\n",
       "      <td>0</td>\n",
       "      <td>8</td>\n",
       "      <td>3</td>\n",
       "      <td>3</td>\n",
       "      <td>8</td>\n",
       "      <td>7</td>\n",
       "      <td>3</td>\n",
       "      <td>0</td>\n",
       "    </tr>\n",
       "    <tr>\n",
       "      <th>4</th>\n",
       "      <td>27</td>\n",
       "      <td>No</td>\n",
       "      <td>Travel_Rarely</td>\n",
       "      <td>591</td>\n",
       "      <td>Research &amp; Development</td>\n",
       "      <td>2</td>\n",
       "      <td>1</td>\n",
       "      <td>Medical</td>\n",
       "      <td>7</td>\n",
       "      <td>1</td>\n",
       "      <td>...</td>\n",
       "      <td>4</td>\n",
       "      <td>80</td>\n",
       "      <td>1</td>\n",
       "      <td>6</td>\n",
       "      <td>3</td>\n",
       "      <td>3</td>\n",
       "      <td>2</td>\n",
       "      <td>2</td>\n",
       "      <td>2</td>\n",
       "      <td>2</td>\n",
       "    </tr>\n",
       "  </tbody>\n",
       "</table>\n",
       "<p>5 rows × 33 columns</p>\n",
       "</div>"
      ],
      "text/plain": [
       "   Age Attrition     BusinessTravel  DailyRate              Department  \\\n",
       "0   41       Yes      Travel_Rarely       1102                   Sales   \n",
       "1   49        No  Travel_Frequently        279  Research & Development   \n",
       "2   37       Yes      Travel_Rarely       1373  Research & Development   \n",
       "3   33        No  Travel_Frequently       1392  Research & Development   \n",
       "4   27        No      Travel_Rarely        591  Research & Development   \n",
       "\n",
       "   DistanceFromHome  Education EducationField  EmployeeNumber  \\\n",
       "0                 1          2  Life Sciences               1   \n",
       "1                 8          1  Life Sciences               2   \n",
       "2                 2          2          Other               4   \n",
       "3                 3          4  Life Sciences               5   \n",
       "4                 2          1        Medical               7   \n",
       "\n",
       "   EnvironmentSatisfaction  ... RelationshipSatisfaction  StandardHours  \\\n",
       "0                        2  ...                        1             80   \n",
       "1                        3  ...                        4             80   \n",
       "2                        4  ...                        2             80   \n",
       "3                        4  ...                        3             80   \n",
       "4                        1  ...                        4             80   \n",
       "\n",
       "   StockOptionLevel  TotalWorkingYears TrainingTimesLastYear  WorkLifeBalance  \\\n",
       "0                 0                  8                     0                1   \n",
       "1                 1                 10                     3                3   \n",
       "2                 0                  7                     3                3   \n",
       "3                 0                  8                     3                3   \n",
       "4                 1                  6                     3                3   \n",
       "\n",
       "  YearsAtCompany  YearsInCurrentRole  YearsSinceLastPromotion  \\\n",
       "0              6                   4                        0   \n",
       "1             10                   7                        1   \n",
       "2              0                   0                        0   \n",
       "3              8                   7                        3   \n",
       "4              2                   2                        2   \n",
       "\n",
       "   YearsWithCurrManager  \n",
       "0                     5  \n",
       "1                     7  \n",
       "2                     0  \n",
       "3                     0  \n",
       "4                     2  \n",
       "\n",
       "[5 rows x 33 columns]"
      ]
     },
     "execution_count": 1,
     "metadata": {},
     "output_type": "execute_result"
    }
   ],
   "source": [
    "import pandas as pd\n",
    "import numpy as np\n",
    "\n",
    "import matplotlib.pylab as plt\n",
    "import seaborn as sns\n",
    "\n",
    "import warnings\n",
    "\n",
    "warnings.filterwarnings('ignore')\n",
    "\n",
    "\n",
    "data = pd.read_csv('../data/WA_Fn-UseC_-HR-Employee-Attrition.csv')\n",
    "data.head(5)"
   ]
  },
  {
   "cell_type": "code",
   "execution_count": 3,
   "id": "ae244b9a",
   "metadata": {},
   "outputs": [],
   "source": [
    "data['Rate_range'] = pd.qcut(data['MonthlyRate'], q=4, labels=[1,2,3,4])\n",
    "data['Income_range'] = pd.qcut(data['MonthlyIncome'], q=4,labels=[1,2,3,4])\n",
    "data['SalaryHike_range'] = pd.qcut(data['PercentSalaryHike'], q=4,labels=[1,2,3,4])\n",
    "data['HomeDistance_range'] = pd.qcut(data['DistanceFromHome'], q=4, labels=[1,2,3,4])\n",
    "\n",
    "data['Rate_range']=data['Rate_range'].astype('object')\n",
    "data['Income_range']=data['Income_range'].astype('object')\n",
    "data['SalaryHike_range']=data['SalaryHike_range'].astype('object')\n",
    "data['HomeDistance_range']=data['HomeDistance_range'].astype('object')\n",
    "\n",
    "data_talent = data[(data['SalaryHike_range']==4) & (data['Age']<34)]\n",
    "data_normal = data[~ (data['SalaryHike_range']==4) | ~(data['Age']<34)]"
   ]
  },
  {
   "cell_type": "code",
   "execution_count": 4,
   "id": "bfdca44a",
   "metadata": {},
   "outputs": [
    {
     "data": {
      "text/plain": [
       "Index(['Age', 'Attrition', 'BusinessTravel', 'DailyRate', 'Department',\n",
       "       'DistanceFromHome', 'Education', 'EducationField', 'EmployeeNumber',\n",
       "       'EnvironmentSatisfaction', 'Gender', 'HourlyRate', 'JobInvolvement',\n",
       "       'JobLevel', 'JobRole', 'JobSatisfaction', 'MaritalStatus',\n",
       "       'MonthlyIncome', 'MonthlyRate', 'NumCompaniesWorked', 'OverTime',\n",
       "       'PercentSalaryHike', 'PerformanceRating', 'RelationshipSatisfaction',\n",
       "       'StandardHours', 'StockOptionLevel', 'TotalWorkingYears',\n",
       "       'TrainingTimesLastYear', 'WorkLifeBalance', 'YearsAtCompany',\n",
       "       'YearsInCurrentRole', 'YearsSinceLastPromotion', 'YearsWithCurrManager',\n",
       "       'Rate_range', 'Income_range', 'SalaryHike_range', 'HomeDistance_range'],\n",
       "      dtype='object')"
      ]
     },
     "execution_count": 4,
     "metadata": {},
     "output_type": "execute_result"
    }
   ],
   "source": [
    "data_talent.columns"
   ]
  },
  {
   "cell_type": "markdown",
   "id": "32b17f6b",
   "metadata": {},
   "source": [
    "### MZ핵심인재 평균나이, 퇴사율, 평균급여"
   ]
  },
  {
   "cell_type": "code",
   "execution_count": 5,
   "id": "c2614aac",
   "metadata": {
    "scrolled": false
   },
   "outputs": [
    {
     "name": "stdout",
     "output_type": "stream",
     "text": [
      "mz핵심인재 평균나이 :  28.112 그외 평균나이 :  37.74275092936803\n"
     ]
    }
   ],
   "source": [
    "print(\"mz핵심인재 평균나이 : \", data_talent['Age'].mean(),\"그외 평균나이 : \",data_normal['Age'].mean())"
   ]
  },
  {
   "cell_type": "code",
   "execution_count": 6,
   "id": "a6daeed5",
   "metadata": {
    "scrolled": true
   },
   "outputs": [
    {
     "name": "stdout",
     "output_type": "stream",
     "text": [
      "mz핵심인재 퇴사율은\n",
      "0.216\n",
      "\n",
      "\n",
      "그외집단 퇴사율은\n",
      "0.15613382899628253\n",
      "\n",
      "\n",
      "전체 퇴사율은\n",
      "0.16122448979591836\n"
     ]
    }
   ],
   "source": [
    "print('mz핵심인재 퇴사율은')\n",
    "print(data_talent[data_talent['Attrition']=='Yes'].count()['Attrition']/data_talent['Attrition'].count())\n",
    "print('\\n')\n",
    "print('그외집단 퇴사율은')\n",
    "print(data_normal[data_normal['Attrition']=='Yes'].count()['Attrition']/data_normal['Attrition'].count())\n",
    "print('\\n')\n",
    "print('전체 퇴사율은')\n",
    "print(data[data['Attrition']=='Yes'].count()['Attrition']/data['Attrition'].count())\n"
   ]
  },
  {
   "cell_type": "markdown",
   "id": "2abc2c16",
   "metadata": {},
   "source": [
    "- **확실히 MZ핵심인재 퇴사율이 높은 것이 문제이다!!!!**\n",
    "- 인재를 잡자!!"
   ]
  },
  {
   "cell_type": "code",
   "execution_count": 7,
   "id": "05f1d0b6",
   "metadata": {},
   "outputs": [
    {
     "data": {
      "text/html": [
       "<div>\n",
       "<style scoped>\n",
       "    .dataframe tbody tr th:only-of-type {\n",
       "        vertical-align: middle;\n",
       "    }\n",
       "\n",
       "    .dataframe tbody tr th {\n",
       "        vertical-align: top;\n",
       "    }\n",
       "\n",
       "    .dataframe thead th {\n",
       "        text-align: right;\n",
       "    }\n",
       "</style>\n",
       "<table border=\"1\" class=\"dataframe\">\n",
       "  <thead>\n",
       "    <tr style=\"text-align: right;\">\n",
       "      <th></th>\n",
       "      <th>Age</th>\n",
       "      <th>Attrition</th>\n",
       "      <th>BusinessTravel</th>\n",
       "      <th>DailyRate</th>\n",
       "      <th>Department</th>\n",
       "      <th>DistanceFromHome</th>\n",
       "      <th>Education</th>\n",
       "      <th>EducationField</th>\n",
       "      <th>EmployeeNumber</th>\n",
       "      <th>EnvironmentSatisfaction</th>\n",
       "      <th>...</th>\n",
       "      <th>TrainingTimesLastYear</th>\n",
       "      <th>WorkLifeBalance</th>\n",
       "      <th>YearsAtCompany</th>\n",
       "      <th>YearsInCurrentRole</th>\n",
       "      <th>YearsSinceLastPromotion</th>\n",
       "      <th>YearsWithCurrManager</th>\n",
       "      <th>Rate_range</th>\n",
       "      <th>Income_range</th>\n",
       "      <th>SalaryHike_range</th>\n",
       "      <th>HomeDistance_range</th>\n",
       "    </tr>\n",
       "  </thead>\n",
       "  <tbody>\n",
       "    <tr>\n",
       "      <th>3</th>\n",
       "      <td>33</td>\n",
       "      <td>No</td>\n",
       "      <td>Travel_Frequently</td>\n",
       "      <td>1392</td>\n",
       "      <td>Research &amp; Development</td>\n",
       "      <td>3</td>\n",
       "      <td>4</td>\n",
       "      <td>Life Sciences</td>\n",
       "      <td>5</td>\n",
       "      <td>4</td>\n",
       "      <td>...</td>\n",
       "      <td>3</td>\n",
       "      <td>3</td>\n",
       "      <td>8</td>\n",
       "      <td>7</td>\n",
       "      <td>3</td>\n",
       "      <td>0</td>\n",
       "      <td>4</td>\n",
       "      <td>1</td>\n",
       "      <td>1</td>\n",
       "      <td>2</td>\n",
       "    </tr>\n",
       "    <tr>\n",
       "      <th>4</th>\n",
       "      <td>27</td>\n",
       "      <td>No</td>\n",
       "      <td>Travel_Rarely</td>\n",
       "      <td>591</td>\n",
       "      <td>Research &amp; Development</td>\n",
       "      <td>2</td>\n",
       "      <td>1</td>\n",
       "      <td>Medical</td>\n",
       "      <td>7</td>\n",
       "      <td>1</td>\n",
       "      <td>...</td>\n",
       "      <td>3</td>\n",
       "      <td>3</td>\n",
       "      <td>2</td>\n",
       "      <td>2</td>\n",
       "      <td>2</td>\n",
       "      <td>2</td>\n",
       "      <td>3</td>\n",
       "      <td>2</td>\n",
       "      <td>1</td>\n",
       "      <td>1</td>\n",
       "    </tr>\n",
       "    <tr>\n",
       "      <th>5</th>\n",
       "      <td>32</td>\n",
       "      <td>No</td>\n",
       "      <td>Travel_Frequently</td>\n",
       "      <td>1005</td>\n",
       "      <td>Research &amp; Development</td>\n",
       "      <td>2</td>\n",
       "      <td>2</td>\n",
       "      <td>Life Sciences</td>\n",
       "      <td>8</td>\n",
       "      <td>4</td>\n",
       "      <td>...</td>\n",
       "      <td>2</td>\n",
       "      <td>2</td>\n",
       "      <td>7</td>\n",
       "      <td>7</td>\n",
       "      <td>3</td>\n",
       "      <td>6</td>\n",
       "      <td>2</td>\n",
       "      <td>2</td>\n",
       "      <td>2</td>\n",
       "      <td>1</td>\n",
       "    </tr>\n",
       "    <tr>\n",
       "      <th>11</th>\n",
       "      <td>29</td>\n",
       "      <td>No</td>\n",
       "      <td>Travel_Rarely</td>\n",
       "      <td>153</td>\n",
       "      <td>Research &amp; Development</td>\n",
       "      <td>15</td>\n",
       "      <td>2</td>\n",
       "      <td>Life Sciences</td>\n",
       "      <td>15</td>\n",
       "      <td>4</td>\n",
       "      <td>...</td>\n",
       "      <td>3</td>\n",
       "      <td>3</td>\n",
       "      <td>9</td>\n",
       "      <td>5</td>\n",
       "      <td>0</td>\n",
       "      <td>8</td>\n",
       "      <td>2</td>\n",
       "      <td>2</td>\n",
       "      <td>1</td>\n",
       "      <td>4</td>\n",
       "    </tr>\n",
       "    <tr>\n",
       "      <th>12</th>\n",
       "      <td>31</td>\n",
       "      <td>No</td>\n",
       "      <td>Travel_Rarely</td>\n",
       "      <td>670</td>\n",
       "      <td>Research &amp; Development</td>\n",
       "      <td>26</td>\n",
       "      <td>1</td>\n",
       "      <td>Life Sciences</td>\n",
       "      <td>16</td>\n",
       "      <td>1</td>\n",
       "      <td>...</td>\n",
       "      <td>1</td>\n",
       "      <td>2</td>\n",
       "      <td>5</td>\n",
       "      <td>2</td>\n",
       "      <td>4</td>\n",
       "      <td>3</td>\n",
       "      <td>3</td>\n",
       "      <td>1</td>\n",
       "      <td>3</td>\n",
       "      <td>4</td>\n",
       "    </tr>\n",
       "    <tr>\n",
       "      <th>...</th>\n",
       "      <td>...</td>\n",
       "      <td>...</td>\n",
       "      <td>...</td>\n",
       "      <td>...</td>\n",
       "      <td>...</td>\n",
       "      <td>...</td>\n",
       "      <td>...</td>\n",
       "      <td>...</td>\n",
       "      <td>...</td>\n",
       "      <td>...</td>\n",
       "      <td>...</td>\n",
       "      <td>...</td>\n",
       "      <td>...</td>\n",
       "      <td>...</td>\n",
       "      <td>...</td>\n",
       "      <td>...</td>\n",
       "      <td>...</td>\n",
       "      <td>...</td>\n",
       "      <td>...</td>\n",
       "      <td>...</td>\n",
       "      <td>...</td>\n",
       "    </tr>\n",
       "    <tr>\n",
       "      <th>1442</th>\n",
       "      <td>29</td>\n",
       "      <td>Yes</td>\n",
       "      <td>Travel_Rarely</td>\n",
       "      <td>1092</td>\n",
       "      <td>Research &amp; Development</td>\n",
       "      <td>1</td>\n",
       "      <td>4</td>\n",
       "      <td>Medical</td>\n",
       "      <td>2027</td>\n",
       "      <td>1</td>\n",
       "      <td>...</td>\n",
       "      <td>3</td>\n",
       "      <td>4</td>\n",
       "      <td>2</td>\n",
       "      <td>2</td>\n",
       "      <td>2</td>\n",
       "      <td>2</td>\n",
       "      <td>4</td>\n",
       "      <td>2</td>\n",
       "      <td>2</td>\n",
       "      <td>1</td>\n",
       "    </tr>\n",
       "    <tr>\n",
       "      <th>1449</th>\n",
       "      <td>32</td>\n",
       "      <td>No</td>\n",
       "      <td>Travel_Rarely</td>\n",
       "      <td>529</td>\n",
       "      <td>Research &amp; Development</td>\n",
       "      <td>2</td>\n",
       "      <td>3</td>\n",
       "      <td>Technical Degree</td>\n",
       "      <td>2038</td>\n",
       "      <td>4</td>\n",
       "      <td>...</td>\n",
       "      <td>4</td>\n",
       "      <td>3</td>\n",
       "      <td>4</td>\n",
       "      <td>2</td>\n",
       "      <td>1</td>\n",
       "      <td>2</td>\n",
       "      <td>2</td>\n",
       "      <td>1</td>\n",
       "      <td>2</td>\n",
       "      <td>1</td>\n",
       "    </tr>\n",
       "    <tr>\n",
       "      <th>1459</th>\n",
       "      <td>29</td>\n",
       "      <td>No</td>\n",
       "      <td>Travel_Rarely</td>\n",
       "      <td>1378</td>\n",
       "      <td>Research &amp; Development</td>\n",
       "      <td>13</td>\n",
       "      <td>2</td>\n",
       "      <td>Other</td>\n",
       "      <td>2053</td>\n",
       "      <td>4</td>\n",
       "      <td>...</td>\n",
       "      <td>2</td>\n",
       "      <td>3</td>\n",
       "      <td>4</td>\n",
       "      <td>3</td>\n",
       "      <td>0</td>\n",
       "      <td>3</td>\n",
       "      <td>4</td>\n",
       "      <td>2</td>\n",
       "      <td>2</td>\n",
       "      <td>3</td>\n",
       "    </tr>\n",
       "    <tr>\n",
       "      <th>1460</th>\n",
       "      <td>29</td>\n",
       "      <td>No</td>\n",
       "      <td>Travel_Rarely</td>\n",
       "      <td>468</td>\n",
       "      <td>Research &amp; Development</td>\n",
       "      <td>28</td>\n",
       "      <td>4</td>\n",
       "      <td>Medical</td>\n",
       "      <td>2054</td>\n",
       "      <td>4</td>\n",
       "      <td>...</td>\n",
       "      <td>3</td>\n",
       "      <td>1</td>\n",
       "      <td>5</td>\n",
       "      <td>4</td>\n",
       "      <td>0</td>\n",
       "      <td>4</td>\n",
       "      <td>2</td>\n",
       "      <td>2</td>\n",
       "      <td>2</td>\n",
       "      <td>4</td>\n",
       "    </tr>\n",
       "    <tr>\n",
       "      <th>1464</th>\n",
       "      <td>26</td>\n",
       "      <td>No</td>\n",
       "      <td>Travel_Rarely</td>\n",
       "      <td>1167</td>\n",
       "      <td>Sales</td>\n",
       "      <td>5</td>\n",
       "      <td>3</td>\n",
       "      <td>Other</td>\n",
       "      <td>2060</td>\n",
       "      <td>4</td>\n",
       "      <td>...</td>\n",
       "      <td>2</td>\n",
       "      <td>3</td>\n",
       "      <td>4</td>\n",
       "      <td>2</td>\n",
       "      <td>0</td>\n",
       "      <td>0</td>\n",
       "      <td>4</td>\n",
       "      <td>2</td>\n",
       "      <td>3</td>\n",
       "      <td>2</td>\n",
       "    </tr>\n",
       "  </tbody>\n",
       "</table>\n",
       "<p>449 rows × 37 columns</p>\n",
       "</div>"
      ],
      "text/plain": [
       "      Age Attrition     BusinessTravel  DailyRate              Department  \\\n",
       "3      33        No  Travel_Frequently       1392  Research & Development   \n",
       "4      27        No      Travel_Rarely        591  Research & Development   \n",
       "5      32        No  Travel_Frequently       1005  Research & Development   \n",
       "11     29        No      Travel_Rarely        153  Research & Development   \n",
       "12     31        No      Travel_Rarely        670  Research & Development   \n",
       "...   ...       ...                ...        ...                     ...   \n",
       "1442   29       Yes      Travel_Rarely       1092  Research & Development   \n",
       "1449   32        No      Travel_Rarely        529  Research & Development   \n",
       "1459   29        No      Travel_Rarely       1378  Research & Development   \n",
       "1460   29        No      Travel_Rarely        468  Research & Development   \n",
       "1464   26        No      Travel_Rarely       1167                   Sales   \n",
       "\n",
       "      DistanceFromHome  Education    EducationField  EmployeeNumber  \\\n",
       "3                    3          4     Life Sciences               5   \n",
       "4                    2          1           Medical               7   \n",
       "5                    2          2     Life Sciences               8   \n",
       "11                  15          2     Life Sciences              15   \n",
       "12                  26          1     Life Sciences              16   \n",
       "...                ...        ...               ...             ...   \n",
       "1442                 1          4           Medical            2027   \n",
       "1449                 2          3  Technical Degree            2038   \n",
       "1459                13          2             Other            2053   \n",
       "1460                28          4           Medical            2054   \n",
       "1464                 5          3             Other            2060   \n",
       "\n",
       "      EnvironmentSatisfaction  ... TrainingTimesLastYear  WorkLifeBalance  \\\n",
       "3                           4  ...                     3                3   \n",
       "4                           1  ...                     3                3   \n",
       "5                           4  ...                     2                2   \n",
       "11                          4  ...                     3                3   \n",
       "12                          1  ...                     1                2   \n",
       "...                       ...  ...                   ...              ...   \n",
       "1442                        1  ...                     3                4   \n",
       "1449                        4  ...                     4                3   \n",
       "1459                        4  ...                     2                3   \n",
       "1460                        4  ...                     3                1   \n",
       "1464                        4  ...                     2                3   \n",
       "\n",
       "      YearsAtCompany  YearsInCurrentRole YearsSinceLastPromotion  \\\n",
       "3                  8                   7                       3   \n",
       "4                  2                   2                       2   \n",
       "5                  7                   7                       3   \n",
       "11                 9                   5                       0   \n",
       "12                 5                   2                       4   \n",
       "...              ...                 ...                     ...   \n",
       "1442               2                   2                       2   \n",
       "1449               4                   2                       1   \n",
       "1459               4                   3                       0   \n",
       "1460               5                   4                       0   \n",
       "1464               4                   2                       0   \n",
       "\n",
       "      YearsWithCurrManager Rate_range  Income_range  SalaryHike_range  \\\n",
       "3                        0          4             1                 1   \n",
       "4                        2          3             2                 1   \n",
       "5                        6          2             2                 2   \n",
       "11                       8          2             2                 1   \n",
       "12                       3          3             1                 3   \n",
       "...                    ...        ...           ...               ...   \n",
       "1442                     2          4             2                 2   \n",
       "1449                     2          2             1                 2   \n",
       "1459                     3          4             2                 2   \n",
       "1460                     4          2             2                 2   \n",
       "1464                     0          4             2                 3   \n",
       "\n",
       "      HomeDistance_range  \n",
       "3                      2  \n",
       "4                      1  \n",
       "5                      1  \n",
       "11                     4  \n",
       "12                     4  \n",
       "...                  ...  \n",
       "1442                   1  \n",
       "1449                   1  \n",
       "1459                   3  \n",
       "1460                   4  \n",
       "1464                   2  \n",
       "\n",
       "[449 rows x 37 columns]"
      ]
     },
     "execution_count": 7,
     "metadata": {},
     "output_type": "execute_result"
    }
   ],
   "source": [
    "data_talent = data[(data['SalaryHike_range']==4) & (data['Age']<34)]\n",
    "data_mz =  data[(data['Age']<34)]\n",
    "data_not_talent_mz= data[~(data['SalaryHike_range']==4) & (data['Age']<34)]\n",
    "data_not_talent_mz"
   ]
  },
  {
   "cell_type": "code",
   "execution_count": 8,
   "id": "9ad8a8c8",
   "metadata": {},
   "outputs": [
    {
     "name": "stdout",
     "output_type": "stream",
     "text": [
      "mz핵심인재 평균월급 :  4570.368               그외 평균월급 :  6682.537546468401\n",
      "그냥 data전체 평균월급 :  6502.931292517007           핵심인재아닌그룹인데 mz로만 평균월급 :  4303.387527839644\n",
      "전체mz 평균월급: 4361.52787456446\n"
     ]
    }
   ],
   "source": [
    "print(\"mz핵심인재 평균월급 : \", data_talent['MonthlyIncome'].mean(), '             ',\n",
    "      \"그외 평균월급 : \",data_normal['MonthlyIncome'].mean())\n",
    "print(\"그냥 data전체 평균월급 : \", data['MonthlyIncome'].mean(), '         ',\n",
    "      \"핵심인재아닌그룹인데 mz로만 평균월급 : \", data_not_talent_mz['MonthlyIncome'].mean())\n",
    "print('전체mz 평균월급:',  data_mz['MonthlyIncome'].mean())"
   ]
  },
  {
   "cell_type": "markdown",
   "id": "94dbebc2",
   "metadata": {},
   "source": [
    "- MZ세대끼리 비교를 해보면 mz핵심인재 평균월급이 200달러정도 높음. ( 개인적으론 크게 별 차이가 없다고 느낌..ㅎㅎ 인센티브제도 적극도입?!)"
   ]
  },
  {
   "cell_type": "markdown",
   "id": "67fc3a7e",
   "metadata": {},
   "source": [
    "## EnvironmentSatisfaction"
   ]
  },
  {
   "cell_type": "code",
   "execution_count": 90,
   "id": "232140bf",
   "metadata": {},
   "outputs": [
    {
     "data": {
      "text/plain": [
       "<AxesSubplot:xlabel='Attrition', ylabel='EnvironmentSatisfaction'>"
      ]
     },
     "execution_count": 90,
     "metadata": {},
     "output_type": "execute_result"
    },
    {
     "data": {
      "image/png": "[encoded data removed]",
      "text/plain": [
       "<Figure size 720x360 with 2 Axes>"
      ]
     },
     "metadata": {
      "needs_background": "light"
     },
     "output_type": "display_data"
    }
   ],
   "source": [
    "f, ax = plt.subplots(1,2, figsize=(10,5))\n",
    "\n",
    "sns.pointplot('Attrition','EnvironmentSatisfaction',data=data_talent,ax=ax[0])\n",
    "sns.pointplot('Attrition','EnvironmentSatisfaction',data=data_normal,ax=ax[1])"
   ]
  },
  {
   "cell_type": "code",
   "execution_count": 88,
   "id": "fb2c8d3d",
   "metadata": {
    "scrolled": true
   },
   "outputs": [
    {
     "data": {
      "text/plain": [
       "<AxesSubplot:xlabel='Attrition', ylabel='EnvironmentSatisfaction'>"
      ]
     },
     "execution_count": 88,
     "metadata": {},
     "output_type": "execute_result"
    },
    {
     "data": {
      "image/png": "[encoded data removed]",
      "text/plain": [
       "<Figure size 720x360 with 2 Axes>"
      ]
     },
     "metadata": {
      "needs_background": "light"
     },
     "output_type": "display_data"
    }
   ],
   "source": [
    "f, ax = plt.subplots(1,2, figsize=(10,5))\n",
    "\n",
    "sns.pointplot('Attrition','EnvironmentSatisfaction',data=data_talent, hue='Gender',ax=ax[0])\n",
    "sns.pointplot('Attrition','EnvironmentSatisfaction',data=data_normal, hue='Gender',ax=ax[1])"
   ]
  },
  {
   "cell_type": "markdown",
   "id": "e3b1dad3",
   "metadata": {},
   "source": [
    "- mz핵심인재 특히 남자핵심인재들은 environment satisfaction과 퇴사율과 적은 상관관계를 보인다.\n",
    "- 환경 만족도는 mz핵심인재 중에서도 여자에게 더 신경쓰면 좋을 듯"
   ]
  },
  {
   "cell_type": "markdown",
   "id": "f60953c1",
   "metadata": {},
   "source": [
    "## JobSatisfaction"
   ]
  },
  {
   "cell_type": "code",
   "execution_count": 93,
   "id": "5c957339",
   "metadata": {},
   "outputs": [
    {
     "data": {
      "text/plain": [
       "<AxesSubplot:xlabel='Attrition', ylabel='JobSatisfaction'>"
      ]
     },
     "execution_count": 93,
     "metadata": {},
     "output_type": "execute_result"
    },
    {
     "data": {
      "image/png": "[encoded data removed]",
      "text/plain": [
       "<Figure size 720x360 with 2 Axes>"
      ]
     },
     "metadata": {
      "needs_background": "light"
     },
     "output_type": "display_data"
    }
   ],
   "source": [
    "f, ax = plt.subplots(1,2, figsize=(10,5))\n",
    "\n",
    "sns.pointplot('Attrition','JobSatisfaction',data=data_talent,ax=ax[0])\n",
    "sns.pointplot('Attrition','JobSatisfaction',data=data_normal,ax=ax[1])"
   ]
  },
  {
   "cell_type": "code",
   "execution_count": 91,
   "id": "7398a68b",
   "metadata": {},
   "outputs": [
    {
     "data": {
      "text/plain": [
       "<AxesSubplot:xlabel='Attrition', ylabel='JobSatisfaction'>"
      ]
     },
     "execution_count": 91,
     "metadata": {},
     "output_type": "execute_result"
    },
    {
     "data": {
      "image/png": "[encoded data removed]",
      "text/plain": [
       "<Figure size 720x360 with 2 Axes>"
      ]
     },
     "metadata": {
      "needs_background": "light"
     },
     "output_type": "display_data"
    }
   ],
   "source": [
    "f, ax = plt.subplots(1,2, figsize=(10,5))\n",
    "\n",
    "sns.pointplot('Attrition','JobSatisfaction',data=data_talent,hue='Gender',ax=ax[0])\n",
    "sns.pointplot('Attrition','JobSatisfaction',data=data_normal,hue='Gender',ax=ax[1])"
   ]
  },
  {
   "cell_type": "code",
   "execution_count": 106,
   "id": "20eafa4c",
   "metadata": {},
   "outputs": [
    {
     "name": "stdout",
     "output_type": "stream",
     "text": [
      "핵심인재 퇴사자:  2.3333333333333335\n",
      "핵심인재 재직자:  2.8877551020408165\n",
      "no핵심인재 퇴사자:  2.4857142857142858\n",
      "no핵심인재 재직자:  2.7691629955947135\n"
     ]
    }
   ],
   "source": [
    "print('핵심인재 퇴사자: ',data_talent[data_talent['Attrition']=='Yes']['JobSatisfaction'].mean())\n",
    "print('핵심인재 재직자: ',data_talent[data_talent['Attrition']=='No']['JobSatisfaction'].mean()) #0.55\n",
    "print('no핵심인재 퇴사자: ',data_normal[data_normal['Attrition']=='Yes']['JobSatisfaction'].mean())\n",
    "print('no핵심인재 재직자: ',data_normal[data_normal['Attrition']=='No']['JobSatisfaction'].mean()) #0.28"
   ]
  },
  {
   "cell_type": "code",
   "execution_count": 99,
   "id": "ad8889c5",
   "metadata": {},
   "outputs": [
    {
     "name": "stdout",
     "output_type": "stream",
     "text": [
      "핵심인재 직무만족도 평균:  2.768\n",
      "핵심인재 직무만족도 평균:  2.724907063197026\n"
     ]
    }
   ],
   "source": [
    "print(\"핵심인재 직무만족도 평균: \", data_talent['JobSatisfaction'].mean())\n",
    "print(\"핵심인재 직무만족도 평균: \", data_normal['JobSatisfaction'].mean())"
   ]
  },
  {
   "cell_type": "markdown",
   "id": "c9e520fd",
   "metadata": {},
   "source": [
    "- job satisfaction 과 attrition은 유의미한 상관관계를 나타내고 있는데,\\\n",
    "핵심인재의 퇴사자와 재직자의 직무만족도 차이는 아닌 그룹보다 훨씬 크다. 0.55 vs 0.28\n",
    "- 핵심인재가 느끼는 직무만족도의 갭을 줄여줄 필요가 있다..있을까요ㅎㅎ"
   ]
  },
  {
   "cell_type": "markdown",
   "id": "ea07ee33",
   "metadata": {},
   "source": [
    "## RelationshipSatisfaction"
   ]
  },
  {
   "cell_type": "code",
   "execution_count": 95,
   "id": "5e672b04",
   "metadata": {},
   "outputs": [
    {
     "data": {
      "text/plain": [
       "<AxesSubplot:xlabel='Attrition', ylabel='RelationshipSatisfaction'>"
      ]
     },
     "execution_count": 95,
     "metadata": {},
     "output_type": "execute_result"
    },
    {
     "data": {
      "image/png": "[encoded data removed]",
      "text/plain": [
       "<Figure size 720x360 with 2 Axes>"
      ]
     },
     "metadata": {
      "needs_background": "light"
     },
     "output_type": "display_data"
    }
   ],
   "source": [
    "f, ax = plt.subplots(1,2, figsize=(10,5))\n",
    "\n",
    "sns.pointplot('Attrition','RelationshipSatisfaction',data=data_talent,ax=ax[0])\n",
    "sns.pointplot('Attrition','RelationshipSatisfaction',data=data_normal,ax=ax[1])"
   ]
  },
  {
   "cell_type": "code",
   "execution_count": 94,
   "id": "0c022e53",
   "metadata": {},
   "outputs": [
    {
     "data": {
      "text/plain": [
       "<AxesSubplot:xlabel='Attrition', ylabel='RelationshipSatisfaction'>"
      ]
     },
     "execution_count": 94,
     "metadata": {},
     "output_type": "execute_result"
    },
    {
     "data": {
      "image/png": "[encoded data removed]",
      "text/plain": [
       "<Figure size 720x360 with 2 Axes>"
      ]
     },
     "metadata": {
      "needs_background": "light"
     },
     "output_type": "display_data"
    }
   ],
   "source": [
    "f, ax = plt.subplots(1,2, figsize=(10,5))\n",
    "\n",
    "sns.pointplot('Attrition','RelationshipSatisfaction',data=data_talent,hue='Gender',ax=ax[0])\n",
    "sns.pointplot('Attrition','RelationshipSatisfaction',data=data_normal,hue='Gender',ax=ax[1])"
   ]
  },
  {
   "cell_type": "markdown",
   "id": "4fe69684",
   "metadata": {},
   "source": [
    "- 전체를 봤을 때, RelationshipSatisfaction이 높으면 퇴사를 덜하는 것 같긴 하지만,\\\n",
    "RelationshipSatisfaction이 낮다고 해서 퇴사를 덜하는 것은 아닌 것 같다 는 기존 결과가 있었음.\n",
    "- 그나마 핵심인재들은 그외그룹보단 둘의 상관관계가 좀보이긴함."
   ]
  },
  {
   "cell_type": "markdown",
   "id": "7b791e56",
   "metadata": {},
   "source": [
    "## WorkLifeBalance"
   ]
  },
  {
   "cell_type": "code",
   "execution_count": 87,
   "id": "dc7e9103",
   "metadata": {},
   "outputs": [
    {
     "data": {
      "text/plain": [
       "<AxesSubplot:xlabel='Attrition', ylabel='WorkLifeBalance'>"
      ]
     },
     "execution_count": 87,
     "metadata": {},
     "output_type": "execute_result"
    },
    {
     "data": {
      "image/png": "[encoded data removed]",
      "text/plain": [
       "<Figure size 720x360 with 2 Axes>"
      ]
     },
     "metadata": {
      "needs_background": "light"
     },
     "output_type": "display_data"
    }
   ],
   "source": [
    "f, ax = plt.subplots(1,2, figsize=(10,5))\n",
    "\n",
    "sns.pointplot('Attrition','WorkLifeBalance',data=data_talent,ax=ax[0])\n",
    "sns.pointplot('Attrition','WorkLifeBalance',data=data_normal,ax=ax[1])"
   ]
  },
  {
   "cell_type": "code",
   "execution_count": 96,
   "id": "3656c528",
   "metadata": {
    "scrolled": false
   },
   "outputs": [
    {
     "data": {
      "text/plain": [
       "<AxesSubplot:xlabel='Attrition', ylabel='WorkLifeBalance'>"
      ]
     },
     "execution_count": 96,
     "metadata": {},
     "output_type": "execute_result"
    },
    {
     "data": {
      "image/png": "[encoded data removed]",
      "text/plain": [
       "<Figure size 720x360 with 2 Axes>"
      ]
     },
     "metadata": {
      "needs_background": "light"
     },
     "output_type": "display_data"
    }
   ],
   "source": [
    "f, ax = plt.subplots(1,2, figsize=(10,5))\n",
    "\n",
    "sns.pointplot('Attrition','WorkLifeBalance',data=data_talent,hue='Gender',ax=ax[0])\n",
    "sns.pointplot('Attrition','WorkLifeBalance',data=data_normal,hue='Gender',ax=ax[1])"
   ]
  },
  {
   "cell_type": "markdown",
   "id": "44be527f",
   "metadata": {},
   "source": [
    "- 퇴사와 워라밸 만족도는 상관관계가 유의미하지 않다.\n",
    "- mz핵심인재보다 오히려 그외그룹이 워라밸-퇴사 상관관계가  있다고 볼 수 있다.\n",
    ">즉, mz핵심인재는 워라밸은 크게 신경쓰지 않는다. 다른거 돈, 효율성 등을 더 중요시여긴다블라블라~~"
   ]
  }
 ],
 "metadata": {
  "kernelspec": {
   "display_name": "Python 3",
   "language": "python",
   "name": "python3"
  },
  "language_info": {
   "codemirror_mode": {
    "name": "ipython",
    "version": 3
   },
   "file_extension": ".py",
   "mimetype": "text/x-python",
   "name": "python",
   "nbconvert_exporter": "python",
   "pygments_lexer": "ipython3",
   "version": "3.8.8"
  },
  "toc": {
   "base_numbering": 1,
   "nav_menu": {},
   "number_sections": true,
   "sideBar": true,
   "skip_h1_title": false,
   "title_cell": "Table of Contents",
   "title_sidebar": "Contents",
   "toc_cell": false,
   "toc_position": {},
   "toc_section_display": true,
   "toc_window_display": true
  },
  "varInspector": {
   "cols": {
    "lenName": 16,
    "lenType": 16,
    "lenVar": 40
   },
   "kernels_config": {
    "python": {
     "delete_cmd_postfix": "",
     "delete_cmd_prefix": "del ",
     "library": "var_list.py",
     "varRefreshCmd": "print(var_dic_list())"
    },
    "r": {
     "delete_cmd_postfix": ") ",
     "delete_cmd_prefix": "rm(",
     "library": "var_list.r",
     "varRefreshCmd": "cat(var_dic_list()) "
    }
   },
   "types_to_exclude": [
    "module",
    "function",
    "builtin_function_or_method",
    "instance",
    "_Feature"
   ],
   "window_display": false
  }
 },
 "nbformat": 4,
 "nbformat_minor": 5
}
